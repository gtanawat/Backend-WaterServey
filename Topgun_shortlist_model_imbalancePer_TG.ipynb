{
  "nbformat": 4,
  "nbformat_minor": 0,
  "metadata": {
    "colab": {
      "name": "Topgun_shortlist_model_imbalancePer_TG.ipynb",
      "provenance": [],
      "collapsed_sections": [],
      "include_colab_link": true
    },
    "kernelspec": {
      "name": "python3",
      "display_name": "Python 3"
    }
  },
  "cells": [
    {
      "cell_type": "markdown",
      "metadata": {
        "id": "view-in-github",
        "colab_type": "text"
      },
      "source": [
        "<a href=\"https://colab.research.google.com/github/gtanawat/Backend-WaterServey/blob/master/Topgun_shortlist_model_imbalancePer_TG.ipynb\" target=\"_parent\"><img src=\"https://colab.research.google.com/assets/colab-badge.svg\" alt=\"Open In Colab\"/></a>"
      ]
    },
    {
      "cell_type": "code",
      "metadata": {
        "colab": {
          "base_uri": "https://localhost:8080/"
        },
        "id": "9Yy-OmGeie-5",
        "outputId": "24425d16-c988-4cea-a7c8-5d2f05b7558d"
      },
      "source": [
        "import numpy as np # linear algebra\n",
        "import pandas as pd # data processing, CSV file I/O (e.g. pd.read_csv)\n",
        "\n",
        "import matplotlib.pyplot as plt\n",
        "import seaborn as sns\n",
        "\n",
        "!gsutil cp gs://lmnugpot/data/shortlist.csv ."
      ],
      "execution_count": 111,
      "outputs": [
        {
          "output_type": "stream",
          "text": [
            "Copying gs://lmnugpot/data/shortlist.csv...\n",
            "/ [1 files][ 13.4 MiB/ 13.4 MiB]                                                \n",
            "Operation completed over 1 objects/13.4 MiB.                                     \n"
          ],
          "name": "stdout"
        }
      ]
    },
    {
      "cell_type": "code",
      "metadata": {
        "colab": {
          "base_uri": "https://localhost:8080/"
        },
        "id": "DEZo31jajPf8",
        "outputId": "1e6e5e6b-1237-4506-b824-111003358fef"
      },
      "source": [
        "jsk = pd.read_csv(\"shortlist.csv\")"
      ],
      "execution_count": 128,
      "outputs": [
        {
          "output_type": "stream",
          "text": [
            "/usr/local/lib/python3.6/dist-packages/IPython/core/interactiveshell.py:2718: DtypeWarning: Columns (9) have mixed types.Specify dtype option on import or set low_memory=False.\n",
            "  interactivity=interactivity, compiler=compiler, result=result)\n"
          ],
          "name": "stderr"
        }
      ]
    },
    {
      "cell_type": "code",
      "metadata": {
        "colab": {
          "base_uri": "https://localhost:8080/"
        },
        "id": "hPjA7CtY8J4S",
        "outputId": "95ec382d-2c50-469f-8cd8-5b37073590e0"
      },
      "source": [
        "#Data Exploration\n",
        "jsk.shape"
      ],
      "execution_count": 113,
      "outputs": [
        {
          "output_type": "execute_result",
          "data": {
            "text/plain": [
              "(114475, 50)"
            ]
          },
          "metadata": {
            "tags": []
          },
          "execution_count": 113
        }
      ]
    },
    {
      "cell_type": "code",
      "metadata": {
        "colab": {
          "base_uri": "https://localhost:8080/"
        },
        "id": "4Yf-At8h8T-M",
        "outputId": "d3b07dc3-288e-4c45-9451-995a337a49b9"
      },
      "source": [
        "jsk.info(verbose=True)"
      ],
      "execution_count": 114,
      "outputs": [
        {
          "output_type": "stream",
          "text": [
            "<class 'pandas.core.frame.DataFrame'>\n",
            "RangeIndex: 114475 entries, 0 to 114474\n",
            "Data columns (total 50 columns):\n",
            " #   Column                Non-Null Count   Dtype  \n",
            "---  ------                --------------   -----  \n",
            " 0   _ID_                  114475 non-null  int64  \n",
            " 1   ID_EMP                114475 non-null  int64  \n",
            " 2   ID_REF_TRACK          114475 non-null  int64  \n",
            " 3   SHORT_LIST_STATUS     114475 non-null  int64  \n",
            " 4   AGE                   114475 non-null  int64  \n",
            " 5   ID_CITY               114392 non-null  float64\n",
            " 6   HEIGHT                114472 non-null  float64\n",
            " 7   WEIGHT                114472 non-null  float64\n",
            " 8   GENDER_NUM            114475 non-null  int64  \n",
            " 9   EXP_STATUS            114466 non-null  object \n",
            " 10  EXP_COMPANY           114475 non-null  int64  \n",
            " 11  EXP_YEAR              114475 non-null  int64  \n",
            " 12  EXP_FULL_YEAR         113713 non-null  float64\n",
            " 13  EXP_PT_YEAR           111911 non-null  float64\n",
            " 14  degree1_count         114442 non-null  float64\n",
            " 15  degree1_GPA           5686 non-null    float64\n",
            " 16  degree1_school        5972 non-null    float64\n",
            " 17  degree1_major         5968 non-null    float64\n",
            " 18  degree1_fac_major     5968 non-null    float64\n",
            " 19  degree2_count         114442 non-null  float64\n",
            " 20  degree2_GPA           108211 non-null  float64\n",
            " 21  degree2_school        112119 non-null  float64\n",
            " 22  degree2_major         112115 non-null  float64\n",
            " 23  degree2_fac_major     112119 non-null  float64\n",
            " 24  degree3_count         114442 non-null  float64\n",
            " 25  degree3_GPA           15017 non-null   float64\n",
            " 26  degree3_school        16212 non-null   float64\n",
            " 27  degree3_major         16211 non-null   float64\n",
            " 28  degree3_fac_major     16212 non-null   float64\n",
            " 29  degree4_count         114442 non-null  float64\n",
            " 30  degree4_GPA           4527 non-null    float64\n",
            " 31  degree4_school        4755 non-null    float64\n",
            " 32  degree4_major         4755 non-null    float64\n",
            " 33  degree4_fac_major     4753 non-null    float64\n",
            " 34  WORKJOB_FIELD_1       23368 non-null   float64\n",
            " 35  WORKJOB_FIELD_2       20024 non-null   float64\n",
            " 36  WORKJOB_FIELD_3       15774 non-null   float64\n",
            " 37  MIN_EXPECTED_SALARY   114451 non-null  float64\n",
            " 38  MAX_EXPECTED_SALARY   114451 non-null  float64\n",
            " 39  SALARY_CURRENCY       114367 non-null  float64\n",
            " 40  EXPECTED_SALARY_PER   114455 non-null  float64\n",
            " 41  POSITION_SEX          47233 non-null   float64\n",
            " 42  POSITION_DEGREE       47233 non-null   float64\n",
            " 43  POSTION_EXP_LESS      47233 non-null   float64\n",
            " 44  POSITION_EXP_MOST     47233 non-null   float64\n",
            " 45  POSITION_SALARY_LESS  47233 non-null   float64\n",
            " 46  POSITION_SALARY_MOST  47233 non-null   float64\n",
            " 47  POSITION_AGE_MIN      47232 non-null   float64\n",
            " 48  POSITION_AGE_MAX      47232 non-null   float64\n",
            " 49  POSITION_JOB_FIELD    1240 non-null    float64\n",
            "dtypes: float64(41), int64(8), object(1)\n",
            "memory usage: 43.7+ MB\n"
          ],
          "name": "stdout"
        }
      ]
    },
    {
      "cell_type": "code",
      "metadata": {
        "colab": {
          "base_uri": "https://localhost:8080/"
        },
        "id": "a2kfoM36gNh0",
        "outputId": "976cca84-f37e-4844-e627-c84081d20b1e"
      },
      "source": [
        "jsk['ID_EMP'].value_counts()"
      ],
      "execution_count": 129,
      "outputs": [
        {
          "output_type": "execute_result",
          "data": {
            "text/plain": [
              "5        26903\n",
              "754      26336\n",
              "279      21175\n",
              "3349     18844\n",
              "2371      4920\n",
              "677       4419\n",
              "1393      3742\n",
              "21417     1995\n",
              "869       1918\n",
              "1807      1272\n",
              "19246      891\n",
              "945        646\n",
              "16888      508\n",
              "4490       424\n",
              "46         312\n",
              "1050        85\n",
              "321         85\n",
              "Name: ID_EMP, dtype: int64"
            ]
          },
          "metadata": {
            "tags": []
          },
          "execution_count": 129
        }
      ]
    },
    {
      "cell_type": "code",
      "metadata": {
        "colab": {
          "base_uri": "https://localhost:8080/"
        },
        "id": "Wd-mPrpn8WzQ",
        "outputId": "1a9d50d0-34f2-4806-e84f-e510dd68ad87"
      },
      "source": [
        "jsk.isnull().sum()"
      ],
      "execution_count": 116,
      "outputs": [
        {
          "output_type": "execute_result",
          "data": {
            "text/plain": [
              "_ID_                         0\n",
              "ID_EMP                       0\n",
              "ID_REF_TRACK                 0\n",
              "SHORT_LIST_STATUS            0\n",
              "AGE                          0\n",
              "ID_CITY                     83\n",
              "HEIGHT                       3\n",
              "WEIGHT                       3\n",
              "GENDER_NUM                   0\n",
              "EXP_STATUS                   9\n",
              "EXP_COMPANY                  0\n",
              "EXP_YEAR                     0\n",
              "EXP_FULL_YEAR              762\n",
              "EXP_PT_YEAR               2564\n",
              "degree1_count               33\n",
              "degree1_GPA             108789\n",
              "degree1_school          108503\n",
              "degree1_major           108507\n",
              "degree1_fac_major       108507\n",
              "degree2_count               33\n",
              "degree2_GPA               6264\n",
              "degree2_school            2356\n",
              "degree2_major             2360\n",
              "degree2_fac_major         2356\n",
              "degree3_count               33\n",
              "degree3_GPA              99458\n",
              "degree3_school           98263\n",
              "degree3_major            98264\n",
              "degree3_fac_major        98263\n",
              "degree4_count               33\n",
              "degree4_GPA             109948\n",
              "degree4_school          109720\n",
              "degree4_major           109720\n",
              "degree4_fac_major       109722\n",
              "WORKJOB_FIELD_1          91107\n",
              "WORKJOB_FIELD_2          94451\n",
              "WORKJOB_FIELD_3          98701\n",
              "MIN_EXPECTED_SALARY         24\n",
              "MAX_EXPECTED_SALARY         24\n",
              "SALARY_CURRENCY            108\n",
              "EXPECTED_SALARY_PER         20\n",
              "POSITION_SEX             67242\n",
              "POSITION_DEGREE          67242\n",
              "POSTION_EXP_LESS         67242\n",
              "POSITION_EXP_MOST        67242\n",
              "POSITION_SALARY_LESS     67242\n",
              "POSITION_SALARY_MOST     67242\n",
              "POSITION_AGE_MIN         67243\n",
              "POSITION_AGE_MAX         67243\n",
              "POSITION_JOB_FIELD      113235\n",
              "dtype: int64"
            ]
          },
          "metadata": {
            "tags": []
          },
          "execution_count": 116
        }
      ]
    },
    {
      "cell_type": "code",
      "metadata": {
        "id": "0ewtdBBSP_HH"
      },
      "source": [
        "# Remove NaN\n",
        "jsk=jsk.fillna(0)"
      ],
      "execution_count": 117,
      "outputs": []
    },
    {
      "cell_type": "code",
      "metadata": {
        "colab": {
          "base_uri": "https://localhost:8080/"
        },
        "id": "iTpfrje4QyHg",
        "outputId": "8aa56b00-8aa0-4153-cf47-26134f6c403b"
      },
      "source": [
        "#Data Exploration\n",
        "jsk['SHORT_LIST_STATUS'].value_counts()"
      ],
      "execution_count": null,
      "outputs": [
        {
          "output_type": "execute_result",
          "data": {
            "text/plain": [
              "0    93504\n",
              "1    20971\n",
              "Name: SHORT_LIST_STATUS, dtype: int64"
            ]
          },
          "metadata": {
            "tags": []
          },
          "execution_count": 32
        }
      ]
    },
    {
      "cell_type": "code",
      "metadata": {
        "id": "kWBLV0IOnCgP"
      },
      "source": [
        "ID_EMP = jsk['ID_EMP'].unique()"
      ],
      "execution_count": null,
      "outputs": []
    },
    {
      "cell_type": "code",
      "metadata": {
        "colab": {
          "base_uri": "https://localhost:8080/"
        },
        "id": "Hes7PixFnI_q",
        "outputId": "792772cb-85e7-45a2-89e0-80f44a85519f"
      },
      "source": [
        "for id in ID_EMP:\n",
        "  jsk_emp = jsk[jsk['ID_EMP'] == id] \n",
        "  x = jsk_emp['SHORT_LIST_STATUS'].value_counts()\n",
        "  print(\"\\n\\n ID\", id)\n",
        "  print(x, \"\\n\")"
      ],
      "execution_count": 130,
      "outputs": [
        {
          "output_type": "stream",
          "text": [
            "\n",
            "\n",
            " ID 5\n",
            "0    24826\n",
            "1     2077\n",
            "Name: SHORT_LIST_STATUS, dtype: int64 \n",
            "\n",
            "\n",
            "\n",
            " ID 754\n",
            "0    20240\n",
            "1     6096\n",
            "Name: SHORT_LIST_STATUS, dtype: int64 \n",
            "\n",
            "\n",
            "\n",
            " ID 19246\n",
            "1    839\n",
            "0     52\n",
            "Name: SHORT_LIST_STATUS, dtype: int64 \n",
            "\n",
            "\n",
            "\n",
            " ID 279\n",
            "0    17625\n",
            "1     3550\n",
            "Name: SHORT_LIST_STATUS, dtype: int64 \n",
            "\n",
            "\n",
            "\n",
            " ID 1393\n",
            "0    2234\n",
            "1    1508\n",
            "Name: SHORT_LIST_STATUS, dtype: int64 \n",
            "\n",
            "\n",
            "\n",
            " ID 2371\n",
            "0    3393\n",
            "1    1527\n",
            "Name: SHORT_LIST_STATUS, dtype: int64 \n",
            "\n",
            "\n",
            "\n",
            " ID 3349\n",
            "0    17735\n",
            "1     1109\n",
            "Name: SHORT_LIST_STATUS, dtype: int64 \n",
            "\n",
            "\n",
            "\n",
            " ID 945\n",
            "0    472\n",
            "1    174\n",
            "Name: SHORT_LIST_STATUS, dtype: int64 \n",
            "\n",
            "\n",
            "\n",
            " ID 21417\n",
            "0    1206\n",
            "1     789\n",
            "Name: SHORT_LIST_STATUS, dtype: int64 \n",
            "\n",
            "\n",
            "\n",
            " ID 869\n",
            "0    1529\n",
            "1     389\n",
            "Name: SHORT_LIST_STATUS, dtype: int64 \n",
            "\n",
            "\n",
            "\n",
            " ID 677\n",
            "0    3561\n",
            "1     858\n",
            "Name: SHORT_LIST_STATUS, dtype: int64 \n",
            "\n",
            "\n",
            "\n",
            " ID 4490\n",
            "1    412\n",
            "0     12\n",
            "Name: SHORT_LIST_STATUS, dtype: int64 \n",
            "\n",
            "\n",
            "\n",
            " ID 16888\n",
            "1    456\n",
            "0     52\n",
            "Name: SHORT_LIST_STATUS, dtype: int64 \n",
            "\n",
            "\n",
            "\n",
            " ID 1050\n",
            "1    85\n",
            "Name: SHORT_LIST_STATUS, dtype: int64 \n",
            "\n",
            "\n",
            "\n",
            " ID 1807\n",
            "1    849\n",
            "0    423\n",
            "Name: SHORT_LIST_STATUS, dtype: int64 \n",
            "\n",
            "\n",
            "\n",
            " ID 46\n",
            "1    209\n",
            "0    103\n",
            "Name: SHORT_LIST_STATUS, dtype: int64 \n",
            "\n",
            "\n",
            "\n",
            " ID 321\n",
            "1    44\n",
            "0    41\n",
            "Name: SHORT_LIST_STATUS, dtype: int64 \n",
            "\n"
          ],
          "name": "stdout"
        }
      ]
    },
    {
      "cell_type": "code",
      "metadata": {
        "id": "yQhqHnecRS6A",
        "colab": {
          "base_uri": "https://localhost:8080/",
          "height": 879
        },
        "outputId": "3abd124c-dd20-4427-c9ef-380201c0de0f"
      },
      "source": [
        "jsk.hist(bins=100, figsize=(20,15))\n",
        "plt.show()"
      ],
      "execution_count": null,
      "outputs": [
        {
          "output_type": "display_data",
          "data": {
            "image/png": "[encoded data removed]",
            "text/plain": [
              "<Figure size 1440x1080 with 49 Axes>"
            ]
          },
          "metadata": {
            "tags": [],
            "needs_background": "light"
          }
        }
      ]
    },
    {
      "cell_type": "code",
      "metadata": {
        "colab": {
          "base_uri": "https://localhost:8080/"
        },
        "id": "I39FVKD9RqHP",
        "outputId": "6b0295a7-269f-4906-a673-7c3eecef0228"
      },
      "source": [
        "jsk['degree2_count'].value_counts()"
      ],
      "execution_count": null,
      "outputs": [
        {
          "output_type": "execute_result",
          "data": {
            "text/plain": [
              "1.0     108968\n",
              "2.0       2816\n",
              "0.0       2356\n",
              "3.0        263\n",
              "4.0         26\n",
              "16.0        13\n",
              "8.0          9\n",
              "6.0          7\n",
              "5.0          6\n",
              "7.0          4\n",
              "15.0         3\n",
              "14.0         2\n",
              "77.0         1\n",
              "18.0         1\n",
              "Name: degree2_count, dtype: int64"
            ]
          },
          "metadata": {
            "tags": []
          },
          "execution_count": 13
        }
      ]
    },
    {
      "cell_type": "code",
      "metadata": {
        "colab": {
          "base_uri": "https://localhost:8080/",
          "height": 308
        },
        "id": "8Ua52nyZSeeL",
        "outputId": "65f02707-0227-4e2f-d912-f35c1fa546f3"
      },
      "source": [
        "jsk.describe()"
      ],
      "execution_count": null,
      "outputs": [
        {
          "output_type": "execute_result",
          "data": {
            "text/html": [
              "<div>\n",
              "<style scoped>\n",
              "    .dataframe tbody tr th:only-of-type {\n",
              "        vertical-align: middle;\n",
              "    }\n",
              "\n",
              "    .dataframe tbody tr th {\n",
              "        vertical-align: top;\n",
              "    }\n",
              "\n",
              "    .dataframe thead th {\n",
              "        text-align: right;\n",
              "    }\n",
              "</style>\n",
              "<table border=\"1\" class=\"dataframe\">\n",
              "  <thead>\n",
              "    <tr style=\"text-align: right;\">\n",
              "      <th></th>\n",
              "      <th>_ID_</th>\n",
              "      <th>ID_EMP</th>\n",
              "      <th>ID_REF_TRACK</th>\n",
              "      <th>SHORT_LIST_STATUS</th>\n",
              "      <th>AGE</th>\n",
              "      <th>ID_CITY</th>\n",
              "      <th>HEIGHT</th>\n",
              "      <th>WEIGHT</th>\n",
              "      <th>GENDER_NUM</th>\n",
              "      <th>EXP_COMPANY</th>\n",
              "      <th>EXP_YEAR</th>\n",
              "      <th>EXP_FULL_YEAR</th>\n",
              "      <th>EXP_PT_YEAR</th>\n",
              "      <th>degree1_count</th>\n",
              "      <th>degree1_GPA</th>\n",
              "      <th>degree1_school</th>\n",
              "      <th>degree1_major</th>\n",
              "      <th>degree1_fac_major</th>\n",
              "      <th>degree2_count</th>\n",
              "      <th>degree2_GPA</th>\n",
              "      <th>degree2_school</th>\n",
              "      <th>degree2_major</th>\n",
              "      <th>degree2_fac_major</th>\n",
              "      <th>degree3_count</th>\n",
              "      <th>degree3_GPA</th>\n",
              "      <th>degree3_school</th>\n",
              "      <th>degree3_major</th>\n",
              "      <th>degree3_fac_major</th>\n",
              "      <th>degree4_count</th>\n",
              "      <th>degree4_GPA</th>\n",
              "      <th>degree4_school</th>\n",
              "      <th>degree4_major</th>\n",
              "      <th>degree4_fac_major</th>\n",
              "      <th>WORKJOB_FIELD_1</th>\n",
              "      <th>WORKJOB_FIELD_2</th>\n",
              "      <th>WORKJOB_FIELD_3</th>\n",
              "      <th>MIN_EXPECTED_SALARY</th>\n",
              "      <th>MAX_EXPECTED_SALARY</th>\n",
              "      <th>SALARY_CURRENCY</th>\n",
              "      <th>EXPECTED_SALARY_PER</th>\n",
              "      <th>POSITION_SEX</th>\n",
              "      <th>POSITION_DEGREE</th>\n",
              "      <th>POSTION_EXP_LESS</th>\n",
              "      <th>POSITION_EXP_MOST</th>\n",
              "      <th>POSITION_SALARY_LESS</th>\n",
              "      <th>POSITION_SALARY_MOST</th>\n",
              "      <th>POSITION_AGE_MIN</th>\n",
              "      <th>POSITION_AGE_MAX</th>\n",
              "      <th>POSITION_JOB_FIELD</th>\n",
              "    </tr>\n",
              "  </thead>\n",
              "  <tbody>\n",
              "    <tr>\n",
              "      <th>count</th>\n",
              "      <td>1.144750e+05</td>\n",
              "      <td>114475.000000</td>\n",
              "      <td>1.144750e+05</td>\n",
              "      <td>114475.000000</td>\n",
              "      <td>114475.00000</td>\n",
              "      <td>114475.000000</td>\n",
              "      <td>114475.000000</td>\n",
              "      <td>114475.000000</td>\n",
              "      <td>114475.000000</td>\n",
              "      <td>114475.000000</td>\n",
              "      <td>114475.000000</td>\n",
              "      <td>114475.000000</td>\n",
              "      <td>114475.000000</td>\n",
              "      <td>114475.000000</td>\n",
              "      <td>114475.000000</td>\n",
              "      <td>114475.000000</td>\n",
              "      <td>114475.000000</td>\n",
              "      <td>114475.000000</td>\n",
              "      <td>114475.000000</td>\n",
              "      <td>114475.000000</td>\n",
              "      <td>114475.000000</td>\n",
              "      <td>114475.000000</td>\n",
              "      <td>114475.000000</td>\n",
              "      <td>114475.000000</td>\n",
              "      <td>114475.000000</td>\n",
              "      <td>114475.000000</td>\n",
              "      <td>114475.000000</td>\n",
              "      <td>114475.000000</td>\n",
              "      <td>114475.000000</td>\n",
              "      <td>114475.000000</td>\n",
              "      <td>114475.000000</td>\n",
              "      <td>114475.000000</td>\n",
              "      <td>114475.000000</td>\n",
              "      <td>114475.000000</td>\n",
              "      <td>114475.000000</td>\n",
              "      <td>114475.000000</td>\n",
              "      <td>1.144750e+05</td>\n",
              "      <td>1.144750e+05</td>\n",
              "      <td>114475.000000</td>\n",
              "      <td>114475.000000</td>\n",
              "      <td>114475.000000</td>\n",
              "      <td>114475.000000</td>\n",
              "      <td>114475.000000</td>\n",
              "      <td>114475.000000</td>\n",
              "      <td>114475.000000</td>\n",
              "      <td>114475.000000</td>\n",
              "      <td>114475.000000</td>\n",
              "      <td>114475.000000</td>\n",
              "      <td>114475.00000</td>\n",
              "    </tr>\n",
              "    <tr>\n",
              "      <th>mean</th>\n",
              "      <td>6.398286e+05</td>\n",
              "      <td>1606.834654</td>\n",
              "      <td>4.957948e+07</td>\n",
              "      <td>0.183193</td>\n",
              "      <td>29.77140</td>\n",
              "      <td>10.496781</td>\n",
              "      <td>184.504606</td>\n",
              "      <td>61.441731</td>\n",
              "      <td>1.325652</td>\n",
              "      <td>2.223665</td>\n",
              "      <td>5.211618</td>\n",
              "      <td>4.767705</td>\n",
              "      <td>0.378249</td>\n",
              "      <td>0.054789</td>\n",
              "      <td>0.131035</td>\n",
              "      <td>5.735217</td>\n",
              "      <td>-0.000262</td>\n",
              "      <td>0.000009</td>\n",
              "      <td>1.013680</td>\n",
              "      <td>2.528715</td>\n",
              "      <td>322.620162</td>\n",
              "      <td>781.483512</td>\n",
              "      <td>35.222677</td>\n",
              "      <td>0.151020</td>\n",
              "      <td>0.410907</td>\n",
              "      <td>41.308888</td>\n",
              "      <td>73.969583</td>\n",
              "      <td>3.462031</td>\n",
              "      <td>0.042647</td>\n",
              "      <td>0.115384</td>\n",
              "      <td>204.791483</td>\n",
              "      <td>38.248570</td>\n",
              "      <td>2.387561</td>\n",
              "      <td>1.818362</td>\n",
              "      <td>1.588128</td>\n",
              "      <td>1.329522</td>\n",
              "      <td>2.733469e+04</td>\n",
              "      <td>6.577285e+04</td>\n",
              "      <td>84.697331</td>\n",
              "      <td>0.830819</td>\n",
              "      <td>0.167775</td>\n",
              "      <td>2.098511</td>\n",
              "      <td>0.618065</td>\n",
              "      <td>2.096135</td>\n",
              "      <td>8929.294597</td>\n",
              "      <td>17282.514077</td>\n",
              "      <td>0.794715</td>\n",
              "      <td>3.104748</td>\n",
              "      <td>0.06501</td>\n",
              "    </tr>\n",
              "    <tr>\n",
              "      <th>std</th>\n",
              "      <td>3.224015e+05</td>\n",
              "      <td>3464.724252</td>\n",
              "      <td>1.215962e+07</td>\n",
              "      <td>0.386826</td>\n",
              "      <td>7.38982</td>\n",
              "      <td>34.510115</td>\n",
              "      <td>3297.540822</td>\n",
              "      <td>209.303618</td>\n",
              "      <td>0.502358</td>\n",
              "      <td>2.047131</td>\n",
              "      <td>12.922602</td>\n",
              "      <td>12.040216</td>\n",
              "      <td>4.817277</td>\n",
              "      <td>0.239794</td>\n",
              "      <td>0.610500</td>\n",
              "      <td>241.886958</td>\n",
              "      <td>0.016186</td>\n",
              "      <td>0.002956</td>\n",
              "      <td>0.387721</td>\n",
              "      <td>0.896488</td>\n",
              "      <td>1085.576264</td>\n",
              "      <td>816.587650</td>\n",
              "      <td>42.992753</td>\n",
              "      <td>0.391025</td>\n",
              "      <td>1.113089</td>\n",
              "      <td>588.030227</td>\n",
              "      <td>327.839646</td>\n",
              "      <td>16.635785</td>\n",
              "      <td>0.209239</td>\n",
              "      <td>0.586336</td>\n",
              "      <td>1372.013064</td>\n",
              "      <td>206.081494</td>\n",
              "      <td>12.471812</td>\n",
              "      <td>5.914184</td>\n",
              "      <td>5.588056</td>\n",
              "      <td>5.220176</td>\n",
              "      <td>4.433815e+06</td>\n",
              "      <td>7.831383e+06</td>\n",
              "      <td>68.840443</td>\n",
              "      <td>1.464581</td>\n",
              "      <td>0.780413</td>\n",
              "      <td>2.937474</td>\n",
              "      <td>1.660606</td>\n",
              "      <td>4.109293</td>\n",
              "      <td>12701.425113</td>\n",
              "      <td>26070.479389</td>\n",
              "      <td>5.719015</td>\n",
              "      <td>11.920948</td>\n",
              "      <td>0.62127</td>\n",
              "    </tr>\n",
              "    <tr>\n",
              "      <th>min</th>\n",
              "      <td>1.500000e+01</td>\n",
              "      <td>5.000000</td>\n",
              "      <td>-4.000000e+00</td>\n",
              "      <td>0.000000</td>\n",
              "      <td>-514.00000</td>\n",
              "      <td>-1.000000</td>\n",
              "      <td>0.000000</td>\n",
              "      <td>0.000000</td>\n",
              "      <td>-1.000000</td>\n",
              "      <td>0.000000</td>\n",
              "      <td>0.000000</td>\n",
              "      <td>0.000000</td>\n",
              "      <td>0.000000</td>\n",
              "      <td>0.000000</td>\n",
              "      <td>0.000000</td>\n",
              "      <td>-1.000000</td>\n",
              "      <td>-1.000000</td>\n",
              "      <td>0.000000</td>\n",
              "      <td>0.000000</td>\n",
              "      <td>-1.000000</td>\n",
              "      <td>-1.000000</td>\n",
              "      <td>-1.000000</td>\n",
              "      <td>-1.000000</td>\n",
              "      <td>0.000000</td>\n",
              "      <td>0.000000</td>\n",
              "      <td>-1.000000</td>\n",
              "      <td>-1.000000</td>\n",
              "      <td>-1.000000</td>\n",
              "      <td>0.000000</td>\n",
              "      <td>0.000000</td>\n",
              "      <td>-1.000000</td>\n",
              "      <td>-1.000000</td>\n",
              "      <td>-1.000000</td>\n",
              "      <td>-1.000000</td>\n",
              "      <td>-1.000000</td>\n",
              "      <td>-1.000000</td>\n",
              "      <td>-1.000000e+00</td>\n",
              "      <td>-1.000000e+00</td>\n",
              "      <td>-1.000000</td>\n",
              "      <td>-1.000000</td>\n",
              "      <td>0.000000</td>\n",
              "      <td>0.000000</td>\n",
              "      <td>0.000000</td>\n",
              "      <td>0.000000</td>\n",
              "      <td>-1.000000</td>\n",
              "      <td>-1.000000</td>\n",
              "      <td>-1.000000</td>\n",
              "      <td>-1.000000</td>\n",
              "      <td>0.00000</td>\n",
              "    </tr>\n",
              "    <tr>\n",
              "      <th>25%</th>\n",
              "      <td>3.799805e+05</td>\n",
              "      <td>279.000000</td>\n",
              "      <td>5.064985e+07</td>\n",
              "      <td>0.000000</td>\n",
              "      <td>25.00000</td>\n",
              "      <td>-1.000000</td>\n",
              "      <td>158.000000</td>\n",
              "      <td>49.000000</td>\n",
              "      <td>1.000000</td>\n",
              "      <td>1.000000</td>\n",
              "      <td>1.000000</td>\n",
              "      <td>0.000000</td>\n",
              "      <td>0.000000</td>\n",
              "      <td>0.000000</td>\n",
              "      <td>0.000000</td>\n",
              "      <td>0.000000</td>\n",
              "      <td>0.000000</td>\n",
              "      <td>0.000000</td>\n",
              "      <td>1.000000</td>\n",
              "      <td>2.340000</td>\n",
              "      <td>3.000000</td>\n",
              "      <td>30.000000</td>\n",
              "      <td>1.000000</td>\n",
              "      <td>0.000000</td>\n",
              "      <td>0.000000</td>\n",
              "      <td>0.000000</td>\n",
              "      <td>0.000000</td>\n",
              "      <td>0.000000</td>\n",
              "      <td>0.000000</td>\n",
              "      <td>0.000000</td>\n",
              "      <td>0.000000</td>\n",
              "      <td>0.000000</td>\n",
              "      <td>0.000000</td>\n",
              "      <td>0.000000</td>\n",
              "      <td>0.000000</td>\n",
              "      <td>0.000000</td>\n",
              "      <td>-1.000000e+00</td>\n",
              "      <td>-1.000000e+00</td>\n",
              "      <td>-1.000000</td>\n",
              "      <td>-1.000000</td>\n",
              "      <td>0.000000</td>\n",
              "      <td>0.000000</td>\n",
              "      <td>0.000000</td>\n",
              "      <td>0.000000</td>\n",
              "      <td>0.000000</td>\n",
              "      <td>0.000000</td>\n",
              "      <td>-1.000000</td>\n",
              "      <td>-1.000000</td>\n",
              "      <td>0.00000</td>\n",
              "    </tr>\n",
              "    <tr>\n",
              "      <th>50%</th>\n",
              "      <td>7.115550e+05</td>\n",
              "      <td>754.000000</td>\n",
              "      <td>5.280965e+07</td>\n",
              "      <td>0.000000</td>\n",
              "      <td>28.00000</td>\n",
              "      <td>-1.000000</td>\n",
              "      <td>164.000000</td>\n",
              "      <td>56.000000</td>\n",
              "      <td>1.000000</td>\n",
              "      <td>2.000000</td>\n",
              "      <td>3.000000</td>\n",
              "      <td>3.000000</td>\n",
              "      <td>0.000000</td>\n",
              "      <td>0.000000</td>\n",
              "      <td>0.000000</td>\n",
              "      <td>0.000000</td>\n",
              "      <td>0.000000</td>\n",
              "      <td>0.000000</td>\n",
              "      <td>1.000000</td>\n",
              "      <td>2.680000</td>\n",
              "      <td>27.000000</td>\n",
              "      <td>540.000000</td>\n",
              "      <td>10.000000</td>\n",
              "      <td>0.000000</td>\n",
              "      <td>0.000000</td>\n",
              "      <td>0.000000</td>\n",
              "      <td>0.000000</td>\n",
              "      <td>0.000000</td>\n",
              "      <td>0.000000</td>\n",
              "      <td>0.000000</td>\n",
              "      <td>0.000000</td>\n",
              "      <td>0.000000</td>\n",
              "      <td>0.000000</td>\n",
              "      <td>0.000000</td>\n",
              "      <td>0.000000</td>\n",
              "      <td>0.000000</td>\n",
              "      <td>1.500000e+04</td>\n",
              "      <td>1.950000e+04</td>\n",
              "      <td>140.000000</td>\n",
              "      <td>2.000000</td>\n",
              "      <td>0.000000</td>\n",
              "      <td>0.000000</td>\n",
              "      <td>0.000000</td>\n",
              "      <td>0.000000</td>\n",
              "      <td>0.000000</td>\n",
              "      <td>0.000000</td>\n",
              "      <td>0.000000</td>\n",
              "      <td>0.000000</td>\n",
              "      <td>0.00000</td>\n",
              "    </tr>\n",
              "    <tr>\n",
              "      <th>75%</th>\n",
              "      <td>8.595510e+05</td>\n",
              "      <td>1807.000000</td>\n",
              "      <td>5.458552e+07</td>\n",
              "      <td>0.000000</td>\n",
              "      <td>33.00000</td>\n",
              "      <td>19.000000</td>\n",
              "      <td>170.000000</td>\n",
              "      <td>67.000000</td>\n",
              "      <td>2.000000</td>\n",
              "      <td>3.000000</td>\n",
              "      <td>7.000000</td>\n",
              "      <td>7.000000</td>\n",
              "      <td>0.000000</td>\n",
              "      <td>0.000000</td>\n",
              "      <td>0.000000</td>\n",
              "      <td>0.000000</td>\n",
              "      <td>0.000000</td>\n",
              "      <td>0.000000</td>\n",
              "      <td>1.000000</td>\n",
              "      <td>3.020000</td>\n",
              "      <td>88.000000</td>\n",
              "      <td>1442.000000</td>\n",
              "      <td>57.000000</td>\n",
              "      <td>0.000000</td>\n",
              "      <td>0.000000</td>\n",
              "      <td>0.000000</td>\n",
              "      <td>0.000000</td>\n",
              "      <td>0.000000</td>\n",
              "      <td>0.000000</td>\n",
              "      <td>0.000000</td>\n",
              "      <td>0.000000</td>\n",
              "      <td>0.000000</td>\n",
              "      <td>0.000000</td>\n",
              "      <td>0.000000</td>\n",
              "      <td>0.000000</td>\n",
              "      <td>0.000000</td>\n",
              "      <td>2.000000e+04</td>\n",
              "      <td>2.600000e+04</td>\n",
              "      <td>140.000000</td>\n",
              "      <td>2.000000</td>\n",
              "      <td>0.000000</td>\n",
              "      <td>6.000000</td>\n",
              "      <td>1.000000</td>\n",
              "      <td>3.000000</td>\n",
              "      <td>15000.000000</td>\n",
              "      <td>30000.000000</td>\n",
              "      <td>0.000000</td>\n",
              "      <td>0.000000</td>\n",
              "      <td>0.00000</td>\n",
              "    </tr>\n",
              "    <tr>\n",
              "      <th>max</th>\n",
              "      <td>1.227096e+06</td>\n",
              "      <td>21417.000000</td>\n",
              "      <td>5.658328e+07</td>\n",
              "      <td>1.000000</td>\n",
              "      <td>128.00000</td>\n",
              "      <td>4456.000000</td>\n",
              "      <td>557887.000000</td>\n",
              "      <td>23423.000000</td>\n",
              "      <td>2.000000</td>\n",
              "      <td>50.000000</td>\n",
              "      <td>566.000000</td>\n",
              "      <td>562.000000</td>\n",
              "      <td>542.000000</td>\n",
              "      <td>7.000000</td>\n",
              "      <td>4.000000</td>\n",
              "      <td>23655.000000</td>\n",
              "      <td>0.000000</td>\n",
              "      <td>1.000000</td>\n",
              "      <td>77.000000</td>\n",
              "      <td>71.500000</td>\n",
              "      <td>26042.000000</td>\n",
              "      <td>2700.000000</td>\n",
              "      <td>199.000000</td>\n",
              "      <td>11.000000</td>\n",
              "      <td>4.130000</td>\n",
              "      <td>25130.000000</td>\n",
              "      <td>2689.000000</td>\n",
              "      <td>199.000000</td>\n",
              "      <td>6.000000</td>\n",
              "      <td>4.000000</td>\n",
              "      <td>26045.000000</td>\n",
              "      <td>2693.000000</td>\n",
              "      <td>81.000000</td>\n",
              "      <td>47.000000</td>\n",
              "      <td>47.000000</td>\n",
              "      <td>47.000000</td>\n",
              "      <td>1.500018e+09</td>\n",
              "      <td>2.000025e+09</td>\n",
              "      <td>151.000000</td>\n",
              "      <td>6.000000</td>\n",
              "      <td>4.000000</td>\n",
              "      <td>9.000000</td>\n",
              "      <td>12.000000</td>\n",
              "      <td>20.000000</td>\n",
              "      <td>160000.000000</td>\n",
              "      <td>300000.000000</td>\n",
              "      <td>66.000000</td>\n",
              "      <td>66.000000</td>\n",
              "      <td>8.00000</td>\n",
              "    </tr>\n",
              "  </tbody>\n",
              "</table>\n",
              "</div>"
            ],
            "text/plain": [
              "               _ID_         ID_EMP  ...  POSITION_AGE_MAX  POSITION_JOB_FIELD\n",
              "count  1.144750e+05  114475.000000  ...     114475.000000        114475.00000\n",
              "mean   6.398286e+05    1606.834654  ...          3.104748             0.06501\n",
              "std    3.224015e+05    3464.724252  ...         11.920948             0.62127\n",
              "min    1.500000e+01       5.000000  ...         -1.000000             0.00000\n",
              "25%    3.799805e+05     279.000000  ...         -1.000000             0.00000\n",
              "50%    7.115550e+05     754.000000  ...          0.000000             0.00000\n",
              "75%    8.595510e+05    1807.000000  ...          0.000000             0.00000\n",
              "max    1.227096e+06   21417.000000  ...         66.000000             8.00000\n",
              "\n",
              "[8 rows x 49 columns]"
            ]
          },
          "metadata": {
            "tags": []
          },
          "execution_count": 36
        }
      ]
    },
    {
      "cell_type": "code",
      "metadata": {
        "id": "4UlRMmttTrV-"
      },
      "source": [
        "for col in ['ID_CITY', 'GENDER_NUM', 'degree1_school', 'degree2_school', 'degree3_school', 'degree4_school', \n",
        "            'degree1_major', 'degree1_fac_major', 'degree2_major', \n",
        "            'degree3_major', 'degree3_fac_major', 'degree4_major', 'degree4_fac_major', 'WORKJOB_FIELD_1', 'WORKJOB_FIELD_2', 'WORKJOB_FIELD_3',\n",
        "            'POSITION_SEX', 'POSITION_DEGREE' , 'POSITION_JOB_FIELD']:\n",
        "   jsk[col] = jsk[col].astype('category')"
      ],
      "execution_count": 119,
      "outputs": []
    },
    {
      "cell_type": "code",
      "metadata": {
        "id": "T9iCBB91Xuyw"
      },
      "source": [
        "jsk.drop(['WEIGHT','HEIGHT','ID_REF_TRACK','_ID_'], axis=1, inplace=True)"
      ],
      "execution_count": 120,
      "outputs": []
    },
    {
      "cell_type": "code",
      "metadata": {
        "colab": {
          "base_uri": "https://localhost:8080/"
        },
        "id": "wjYm7pOjUDPH",
        "outputId": "fa0b5433-64d4-4d86-e714-153e7bcd6f76"
      },
      "source": [
        "jsk.info()"
      ],
      "execution_count": null,
      "outputs": [
        {
          "output_type": "stream",
          "text": [
            "<class 'pandas.core.frame.DataFrame'>\n",
            "RangeIndex: 114475 entries, 0 to 114474\n",
            "Data columns (total 46 columns):\n",
            " #   Column                Non-Null Count   Dtype   \n",
            "---  ------                --------------   -----   \n",
            " 0   ID_EMP                114475 non-null  int64   \n",
            " 1   SHORT_LIST_STATUS     114475 non-null  int64   \n",
            " 2   AGE                   114475 non-null  int64   \n",
            " 3   ID_CITY               114392 non-null  category\n",
            " 4   GENDER_NUM            114475 non-null  category\n",
            " 5   EXP_STATUS            114466 non-null  object  \n",
            " 6   EXP_COMPANY           114475 non-null  int64   \n",
            " 7   EXP_YEAR              114475 non-null  int64   \n",
            " 8   EXP_FULL_YEAR         113713 non-null  float64 \n",
            " 9   EXP_PT_YEAR           111911 non-null  float64 \n",
            " 10  degree1_count         114442 non-null  float64 \n",
            " 11  degree1_GPA           5686 non-null    float64 \n",
            " 12  degree1_school        5972 non-null    category\n",
            " 13  degree1_major         5968 non-null    category\n",
            " 14  degree1_fac_major     5968 non-null    category\n",
            " 15  degree2_count         114442 non-null  float64 \n",
            " 16  degree2_GPA           108211 non-null  float64 \n",
            " 17  degree2_school        112119 non-null  category\n",
            " 18  degree2_major         112115 non-null  category\n",
            " 19  degree2_fac_major     112119 non-null  float64 \n",
            " 20  degree3_count         114442 non-null  float64 \n",
            " 21  degree3_GPA           15017 non-null   float64 \n",
            " 22  degree3_school        16212 non-null   category\n",
            " 23  degree3_major         16211 non-null   category\n",
            " 24  degree3_fac_major     16212 non-null   category\n",
            " 25  degree4_count         114442 non-null  float64 \n",
            " 26  degree4_GPA           4527 non-null    float64 \n",
            " 27  degree4_school        4755 non-null    category\n",
            " 28  degree4_major         4755 non-null    category\n",
            " 29  degree4_fac_major     4753 non-null    category\n",
            " 30  WORKJOB_FIELD_1       23368 non-null   category\n",
            " 31  WORKJOB_FIELD_2       20024 non-null   category\n",
            " 32  WORKJOB_FIELD_3       15774 non-null   category\n",
            " 33  MIN_EXPECTED_SALARY   114451 non-null  float64 \n",
            " 34  MAX_EXPECTED_SALARY   114451 non-null  float64 \n",
            " 35  SALARY_CURRENCY       114367 non-null  float64 \n",
            " 36  EXPECTED_SALARY_PER   114455 non-null  float64 \n",
            " 37  POSITION_SEX          47233 non-null   category\n",
            " 38  POSITION_DEGREE       47233 non-null   category\n",
            " 39  POSTION_EXP_LESS      47233 non-null   float64 \n",
            " 40  POSITION_EXP_MOST     47233 non-null   float64 \n",
            " 41  POSITION_SALARY_LESS  47233 non-null   float64 \n",
            " 42  POSITION_SALARY_MOST  47233 non-null   float64 \n",
            " 43  POSITION_AGE_MIN      47232 non-null   float64 \n",
            " 44  POSITION_AGE_MAX      47232 non-null   float64 \n",
            " 45  POSITION_JOB_FIELD    1240 non-null    category\n",
            "dtypes: category(19), float64(21), int64(5), object(1)\n",
            "memory usage: 26.4+ MB\n"
          ],
          "name": "stdout"
        }
      ]
    },
    {
      "cell_type": "code",
      "metadata": {
        "colab": {
          "base_uri": "https://localhost:8080/",
          "height": 218
        },
        "id": "PHWPrDhDJmMe",
        "outputId": "0f1f9ce2-c831-4921-b7b8-1b5177125b65"
      },
      "source": [
        "jsk.head(5)"
      ],
      "execution_count": null,
      "outputs": [
        {
          "output_type": "execute_result",
          "data": {
            "text/html": [
              "<div>\n",
              "<style scoped>\n",
              "    .dataframe tbody tr th:only-of-type {\n",
              "        vertical-align: middle;\n",
              "    }\n",
              "\n",
              "    .dataframe tbody tr th {\n",
              "        vertical-align: top;\n",
              "    }\n",
              "\n",
              "    .dataframe thead th {\n",
              "        text-align: right;\n",
              "    }\n",
              "</style>\n",
              "<table border=\"1\" class=\"dataframe\">\n",
              "  <thead>\n",
              "    <tr style=\"text-align: right;\">\n",
              "      <th></th>\n",
              "      <th>ID_EMP</th>\n",
              "      <th>SHORT_LIST_STATUS</th>\n",
              "      <th>AGE</th>\n",
              "      <th>ID_CITY</th>\n",
              "      <th>GENDER_NUM</th>\n",
              "      <th>EXP_STATUS</th>\n",
              "      <th>EXP_COMPANY</th>\n",
              "      <th>EXP_YEAR</th>\n",
              "      <th>EXP_FULL_YEAR</th>\n",
              "      <th>EXP_PT_YEAR</th>\n",
              "      <th>degree1_count</th>\n",
              "      <th>degree1_GPA</th>\n",
              "      <th>degree1_school</th>\n",
              "      <th>degree1_major</th>\n",
              "      <th>degree1_fac_major</th>\n",
              "      <th>degree2_count</th>\n",
              "      <th>degree2_GPA</th>\n",
              "      <th>degree2_school</th>\n",
              "      <th>degree2_major</th>\n",
              "      <th>degree2_fac_major</th>\n",
              "      <th>degree3_count</th>\n",
              "      <th>degree3_GPA</th>\n",
              "      <th>degree3_school</th>\n",
              "      <th>degree3_major</th>\n",
              "      <th>degree3_fac_major</th>\n",
              "      <th>degree4_count</th>\n",
              "      <th>degree4_GPA</th>\n",
              "      <th>degree4_school</th>\n",
              "      <th>degree4_major</th>\n",
              "      <th>degree4_fac_major</th>\n",
              "      <th>WORKJOB_FIELD_1</th>\n",
              "      <th>WORKJOB_FIELD_2</th>\n",
              "      <th>WORKJOB_FIELD_3</th>\n",
              "      <th>MIN_EXPECTED_SALARY</th>\n",
              "      <th>MAX_EXPECTED_SALARY</th>\n",
              "      <th>SALARY_CURRENCY</th>\n",
              "      <th>EXPECTED_SALARY_PER</th>\n",
              "      <th>POSITION_SEX</th>\n",
              "      <th>POSITION_DEGREE</th>\n",
              "      <th>POSTION_EXP_LESS</th>\n",
              "      <th>POSITION_EXP_MOST</th>\n",
              "      <th>POSITION_SALARY_LESS</th>\n",
              "      <th>POSITION_SALARY_MOST</th>\n",
              "      <th>POSITION_AGE_MIN</th>\n",
              "      <th>POSITION_AGE_MAX</th>\n",
              "      <th>POSITION_JOB_FIELD</th>\n",
              "    </tr>\n",
              "  </thead>\n",
              "  <tbody>\n",
              "    <tr>\n",
              "      <th>0</th>\n",
              "      <td>5</td>\n",
              "      <td>0</td>\n",
              "      <td>34</td>\n",
              "      <td>39.0</td>\n",
              "      <td>2</td>\n",
              "      <td>True</td>\n",
              "      <td>2</td>\n",
              "      <td>0</td>\n",
              "      <td>0.0</td>\n",
              "      <td>0.0</td>\n",
              "      <td>0.0</td>\n",
              "      <td>0.0</td>\n",
              "      <td>0.0</td>\n",
              "      <td>0.0</td>\n",
              "      <td>0.0</td>\n",
              "      <td>0.0</td>\n",
              "      <td>0.00</td>\n",
              "      <td>0.0</td>\n",
              "      <td>0.0</td>\n",
              "      <td>0.0</td>\n",
              "      <td>0.0</td>\n",
              "      <td>0.0</td>\n",
              "      <td>0.0</td>\n",
              "      <td>0.0</td>\n",
              "      <td>0.0</td>\n",
              "      <td>0.0</td>\n",
              "      <td>0.0</td>\n",
              "      <td>0.0</td>\n",
              "      <td>0.0</td>\n",
              "      <td>0.0</td>\n",
              "      <td>0.0</td>\n",
              "      <td>0.0</td>\n",
              "      <td>0.0</td>\n",
              "      <td>0.0</td>\n",
              "      <td>0.0</td>\n",
              "      <td>0.0</td>\n",
              "      <td>0.0</td>\n",
              "      <td>4.0</td>\n",
              "      <td>8.0</td>\n",
              "      <td>2.0</td>\n",
              "      <td>5.0</td>\n",
              "      <td>25000.0</td>\n",
              "      <td>60000.0</td>\n",
              "      <td>-1.0</td>\n",
              "      <td>-1.0</td>\n",
              "      <td>0.0</td>\n",
              "    </tr>\n",
              "    <tr>\n",
              "      <th>1</th>\n",
              "      <td>5</td>\n",
              "      <td>0</td>\n",
              "      <td>23</td>\n",
              "      <td>-1.0</td>\n",
              "      <td>2</td>\n",
              "      <td>True</td>\n",
              "      <td>2</td>\n",
              "      <td>1</td>\n",
              "      <td>1.0</td>\n",
              "      <td>0.0</td>\n",
              "      <td>0.0</td>\n",
              "      <td>0.0</td>\n",
              "      <td>0.0</td>\n",
              "      <td>0.0</td>\n",
              "      <td>0.0</td>\n",
              "      <td>1.0</td>\n",
              "      <td>3.46</td>\n",
              "      <td>59.0</td>\n",
              "      <td>929.0</td>\n",
              "      <td>13.0</td>\n",
              "      <td>0.0</td>\n",
              "      <td>0.0</td>\n",
              "      <td>0.0</td>\n",
              "      <td>0.0</td>\n",
              "      <td>0.0</td>\n",
              "      <td>0.0</td>\n",
              "      <td>0.0</td>\n",
              "      <td>0.0</td>\n",
              "      <td>0.0</td>\n",
              "      <td>0.0</td>\n",
              "      <td>0.0</td>\n",
              "      <td>0.0</td>\n",
              "      <td>0.0</td>\n",
              "      <td>0.0</td>\n",
              "      <td>0.0</td>\n",
              "      <td>0.0</td>\n",
              "      <td>0.0</td>\n",
              "      <td>0.0</td>\n",
              "      <td>6.0</td>\n",
              "      <td>0.0</td>\n",
              "      <td>2.0</td>\n",
              "      <td>20000.0</td>\n",
              "      <td>30000.0</td>\n",
              "      <td>-1.0</td>\n",
              "      <td>-1.0</td>\n",
              "      <td>6.0</td>\n",
              "    </tr>\n",
              "    <tr>\n",
              "      <th>2</th>\n",
              "      <td>5</td>\n",
              "      <td>0</td>\n",
              "      <td>25</td>\n",
              "      <td>-1.0</td>\n",
              "      <td>1</td>\n",
              "      <td>True</td>\n",
              "      <td>1</td>\n",
              "      <td>0</td>\n",
              "      <td>0.0</td>\n",
              "      <td>0.0</td>\n",
              "      <td>0.0</td>\n",
              "      <td>0.0</td>\n",
              "      <td>0.0</td>\n",
              "      <td>0.0</td>\n",
              "      <td>0.0</td>\n",
              "      <td>1.0</td>\n",
              "      <td>3.72</td>\n",
              "      <td>47.0</td>\n",
              "      <td>1430.0</td>\n",
              "      <td>60.0</td>\n",
              "      <td>0.0</td>\n",
              "      <td>0.0</td>\n",
              "      <td>0.0</td>\n",
              "      <td>0.0</td>\n",
              "      <td>0.0</td>\n",
              "      <td>0.0</td>\n",
              "      <td>0.0</td>\n",
              "      <td>0.0</td>\n",
              "      <td>0.0</td>\n",
              "      <td>0.0</td>\n",
              "      <td>0.0</td>\n",
              "      <td>0.0</td>\n",
              "      <td>0.0</td>\n",
              "      <td>0.0</td>\n",
              "      <td>0.0</td>\n",
              "      <td>0.0</td>\n",
              "      <td>0.0</td>\n",
              "      <td>0.0</td>\n",
              "      <td>6.0</td>\n",
              "      <td>0.0</td>\n",
              "      <td>2.0</td>\n",
              "      <td>15000.0</td>\n",
              "      <td>30000.0</td>\n",
              "      <td>-1.0</td>\n",
              "      <td>-1.0</td>\n",
              "      <td>0.0</td>\n",
              "    </tr>\n",
              "    <tr>\n",
              "      <th>3</th>\n",
              "      <td>5</td>\n",
              "      <td>0</td>\n",
              "      <td>23</td>\n",
              "      <td>-1.0</td>\n",
              "      <td>1</td>\n",
              "      <td>False</td>\n",
              "      <td>0</td>\n",
              "      <td>0</td>\n",
              "      <td>0.0</td>\n",
              "      <td>0.0</td>\n",
              "      <td>0.0</td>\n",
              "      <td>0.0</td>\n",
              "      <td>0.0</td>\n",
              "      <td>0.0</td>\n",
              "      <td>0.0</td>\n",
              "      <td>0.0</td>\n",
              "      <td>0.00</td>\n",
              "      <td>0.0</td>\n",
              "      <td>0.0</td>\n",
              "      <td>0.0</td>\n",
              "      <td>0.0</td>\n",
              "      <td>0.0</td>\n",
              "      <td>0.0</td>\n",
              "      <td>0.0</td>\n",
              "      <td>0.0</td>\n",
              "      <td>0.0</td>\n",
              "      <td>0.0</td>\n",
              "      <td>0.0</td>\n",
              "      <td>0.0</td>\n",
              "      <td>0.0</td>\n",
              "      <td>0.0</td>\n",
              "      <td>0.0</td>\n",
              "      <td>0.0</td>\n",
              "      <td>0.0</td>\n",
              "      <td>0.0</td>\n",
              "      <td>0.0</td>\n",
              "      <td>0.0</td>\n",
              "      <td>0.0</td>\n",
              "      <td>6.0</td>\n",
              "      <td>0.0</td>\n",
              "      <td>2.0</td>\n",
              "      <td>15000.0</td>\n",
              "      <td>30000.0</td>\n",
              "      <td>-1.0</td>\n",
              "      <td>-1.0</td>\n",
              "      <td>0.0</td>\n",
              "    </tr>\n",
              "    <tr>\n",
              "      <th>4</th>\n",
              "      <td>754</td>\n",
              "      <td>0</td>\n",
              "      <td>48</td>\n",
              "      <td>1.0</td>\n",
              "      <td>2</td>\n",
              "      <td>True</td>\n",
              "      <td>4</td>\n",
              "      <td>7</td>\n",
              "      <td>7.0</td>\n",
              "      <td>0.0</td>\n",
              "      <td>0.0</td>\n",
              "      <td>0.0</td>\n",
              "      <td>0.0</td>\n",
              "      <td>0.0</td>\n",
              "      <td>0.0</td>\n",
              "      <td>0.0</td>\n",
              "      <td>0.00</td>\n",
              "      <td>0.0</td>\n",
              "      <td>0.0</td>\n",
              "      <td>0.0</td>\n",
              "      <td>0.0</td>\n",
              "      <td>0.0</td>\n",
              "      <td>0.0</td>\n",
              "      <td>0.0</td>\n",
              "      <td>0.0</td>\n",
              "      <td>0.0</td>\n",
              "      <td>0.0</td>\n",
              "      <td>0.0</td>\n",
              "      <td>0.0</td>\n",
              "      <td>0.0</td>\n",
              "      <td>0.0</td>\n",
              "      <td>0.0</td>\n",
              "      <td>0.0</td>\n",
              "      <td>0.0</td>\n",
              "      <td>0.0</td>\n",
              "      <td>0.0</td>\n",
              "      <td>0.0</td>\n",
              "      <td>0.0</td>\n",
              "      <td>0.0</td>\n",
              "      <td>0.0</td>\n",
              "      <td>0.0</td>\n",
              "      <td>0.0</td>\n",
              "      <td>0.0</td>\n",
              "      <td>0.0</td>\n",
              "      <td>0.0</td>\n",
              "      <td>0.0</td>\n",
              "    </tr>\n",
              "  </tbody>\n",
              "</table>\n",
              "</div>"
            ],
            "text/plain": [
              "   ID_EMP  SHORT_LIST_STATUS  ...  POSITION_AGE_MAX POSITION_JOB_FIELD\n",
              "0       5                  0  ...              -1.0                0.0\n",
              "1       5                  0  ...              -1.0                6.0\n",
              "2       5                  0  ...              -1.0                0.0\n",
              "3       5                  0  ...              -1.0                0.0\n",
              "4     754                  0  ...               0.0                0.0\n",
              "\n",
              "[5 rows x 46 columns]"
            ]
          },
          "metadata": {
            "tags": []
          },
          "execution_count": 40
        }
      ]
    },
    {
      "cell_type": "code",
      "metadata": {
        "colab": {
          "base_uri": "https://localhost:8080/",
          "height": 308
        },
        "id": "ynRu4M-XJ3zq",
        "outputId": "283dc655-f1d8-4d66-bb48-ee776cba3cbe"
      },
      "source": [
        "jsk.describe()"
      ],
      "execution_count": null,
      "outputs": [
        {
          "output_type": "execute_result",
          "data": {
            "text/html": [
              "<div>\n",
              "<style scoped>\n",
              "    .dataframe tbody tr th:only-of-type {\n",
              "        vertical-align: middle;\n",
              "    }\n",
              "\n",
              "    .dataframe tbody tr th {\n",
              "        vertical-align: top;\n",
              "    }\n",
              "\n",
              "    .dataframe thead th {\n",
              "        text-align: right;\n",
              "    }\n",
              "</style>\n",
              "<table border=\"1\" class=\"dataframe\">\n",
              "  <thead>\n",
              "    <tr style=\"text-align: right;\">\n",
              "      <th></th>\n",
              "      <th>ID_EMP</th>\n",
              "      <th>SHORT_LIST_STATUS</th>\n",
              "      <th>AGE</th>\n",
              "      <th>EXP_COMPANY</th>\n",
              "      <th>EXP_YEAR</th>\n",
              "      <th>EXP_FULL_YEAR</th>\n",
              "      <th>EXP_PT_YEAR</th>\n",
              "      <th>degree1_count</th>\n",
              "      <th>degree1_GPA</th>\n",
              "      <th>degree2_count</th>\n",
              "      <th>degree2_GPA</th>\n",
              "      <th>degree2_fac_major</th>\n",
              "      <th>degree3_count</th>\n",
              "      <th>degree3_GPA</th>\n",
              "      <th>degree4_count</th>\n",
              "      <th>degree4_GPA</th>\n",
              "      <th>MIN_EXPECTED_SALARY</th>\n",
              "      <th>MAX_EXPECTED_SALARY</th>\n",
              "      <th>SALARY_CURRENCY</th>\n",
              "      <th>EXPECTED_SALARY_PER</th>\n",
              "      <th>POSTION_EXP_LESS</th>\n",
              "      <th>POSITION_EXP_MOST</th>\n",
              "      <th>POSITION_SALARY_LESS</th>\n",
              "      <th>POSITION_SALARY_MOST</th>\n",
              "      <th>POSITION_AGE_MIN</th>\n",
              "      <th>POSITION_AGE_MAX</th>\n",
              "    </tr>\n",
              "  </thead>\n",
              "  <tbody>\n",
              "    <tr>\n",
              "      <th>count</th>\n",
              "      <td>114475.000000</td>\n",
              "      <td>114475.000000</td>\n",
              "      <td>114475.00000</td>\n",
              "      <td>114475.000000</td>\n",
              "      <td>114475.000000</td>\n",
              "      <td>114475.000000</td>\n",
              "      <td>114475.000000</td>\n",
              "      <td>114475.000000</td>\n",
              "      <td>114475.000000</td>\n",
              "      <td>114475.000000</td>\n",
              "      <td>114475.000000</td>\n",
              "      <td>114475.000000</td>\n",
              "      <td>114475.000000</td>\n",
              "      <td>114475.000000</td>\n",
              "      <td>114475.000000</td>\n",
              "      <td>114475.000000</td>\n",
              "      <td>1.144750e+05</td>\n",
              "      <td>1.144750e+05</td>\n",
              "      <td>114475.000000</td>\n",
              "      <td>114475.000000</td>\n",
              "      <td>114475.000000</td>\n",
              "      <td>114475.000000</td>\n",
              "      <td>114475.000000</td>\n",
              "      <td>114475.000000</td>\n",
              "      <td>114475.000000</td>\n",
              "      <td>114475.000000</td>\n",
              "    </tr>\n",
              "    <tr>\n",
              "      <th>mean</th>\n",
              "      <td>1606.834654</td>\n",
              "      <td>0.183193</td>\n",
              "      <td>29.77140</td>\n",
              "      <td>2.223665</td>\n",
              "      <td>5.211618</td>\n",
              "      <td>4.767705</td>\n",
              "      <td>0.378249</td>\n",
              "      <td>0.054789</td>\n",
              "      <td>0.131035</td>\n",
              "      <td>1.013680</td>\n",
              "      <td>2.528715</td>\n",
              "      <td>35.222677</td>\n",
              "      <td>0.151020</td>\n",
              "      <td>0.410907</td>\n",
              "      <td>0.042647</td>\n",
              "      <td>0.115384</td>\n",
              "      <td>2.733469e+04</td>\n",
              "      <td>6.577285e+04</td>\n",
              "      <td>84.697331</td>\n",
              "      <td>0.830819</td>\n",
              "      <td>0.618065</td>\n",
              "      <td>2.096135</td>\n",
              "      <td>8929.294597</td>\n",
              "      <td>17282.514077</td>\n",
              "      <td>0.794715</td>\n",
              "      <td>3.104748</td>\n",
              "    </tr>\n",
              "    <tr>\n",
              "      <th>std</th>\n",
              "      <td>3464.724252</td>\n",
              "      <td>0.386826</td>\n",
              "      <td>7.38982</td>\n",
              "      <td>2.047131</td>\n",
              "      <td>12.922602</td>\n",
              "      <td>12.040216</td>\n",
              "      <td>4.817277</td>\n",
              "      <td>0.239794</td>\n",
              "      <td>0.610500</td>\n",
              "      <td>0.387721</td>\n",
              "      <td>0.896488</td>\n",
              "      <td>42.992753</td>\n",
              "      <td>0.391025</td>\n",
              "      <td>1.113089</td>\n",
              "      <td>0.209239</td>\n",
              "      <td>0.586336</td>\n",
              "      <td>4.433815e+06</td>\n",
              "      <td>7.831383e+06</td>\n",
              "      <td>68.840443</td>\n",
              "      <td>1.464581</td>\n",
              "      <td>1.660606</td>\n",
              "      <td>4.109293</td>\n",
              "      <td>12701.425113</td>\n",
              "      <td>26070.479389</td>\n",
              "      <td>5.719015</td>\n",
              "      <td>11.920948</td>\n",
              "    </tr>\n",
              "    <tr>\n",
              "      <th>min</th>\n",
              "      <td>5.000000</td>\n",
              "      <td>0.000000</td>\n",
              "      <td>-514.00000</td>\n",
              "      <td>0.000000</td>\n",
              "      <td>0.000000</td>\n",
              "      <td>0.000000</td>\n",
              "      <td>0.000000</td>\n",
              "      <td>0.000000</td>\n",
              "      <td>0.000000</td>\n",
              "      <td>0.000000</td>\n",
              "      <td>-1.000000</td>\n",
              "      <td>-1.000000</td>\n",
              "      <td>0.000000</td>\n",
              "      <td>0.000000</td>\n",
              "      <td>0.000000</td>\n",
              "      <td>0.000000</td>\n",
              "      <td>-1.000000e+00</td>\n",
              "      <td>-1.000000e+00</td>\n",
              "      <td>-1.000000</td>\n",
              "      <td>-1.000000</td>\n",
              "      <td>0.000000</td>\n",
              "      <td>0.000000</td>\n",
              "      <td>-1.000000</td>\n",
              "      <td>-1.000000</td>\n",
              "      <td>-1.000000</td>\n",
              "      <td>-1.000000</td>\n",
              "    </tr>\n",
              "    <tr>\n",
              "      <th>25%</th>\n",
              "      <td>279.000000</td>\n",
              "      <td>0.000000</td>\n",
              "      <td>25.00000</td>\n",
              "      <td>1.000000</td>\n",
              "      <td>1.000000</td>\n",
              "      <td>0.000000</td>\n",
              "      <td>0.000000</td>\n",
              "      <td>0.000000</td>\n",
              "      <td>0.000000</td>\n",
              "      <td>1.000000</td>\n",
              "      <td>2.340000</td>\n",
              "      <td>1.000000</td>\n",
              "      <td>0.000000</td>\n",
              "      <td>0.000000</td>\n",
              "      <td>0.000000</td>\n",
              "      <td>0.000000</td>\n",
              "      <td>-1.000000e+00</td>\n",
              "      <td>-1.000000e+00</td>\n",
              "      <td>-1.000000</td>\n",
              "      <td>-1.000000</td>\n",
              "      <td>0.000000</td>\n",
              "      <td>0.000000</td>\n",
              "      <td>0.000000</td>\n",
              "      <td>0.000000</td>\n",
              "      <td>-1.000000</td>\n",
              "      <td>-1.000000</td>\n",
              "    </tr>\n",
              "    <tr>\n",
              "      <th>50%</th>\n",
              "      <td>754.000000</td>\n",
              "      <td>0.000000</td>\n",
              "      <td>28.00000</td>\n",
              "      <td>2.000000</td>\n",
              "      <td>3.000000</td>\n",
              "      <td>3.000000</td>\n",
              "      <td>0.000000</td>\n",
              "      <td>0.000000</td>\n",
              "      <td>0.000000</td>\n",
              "      <td>1.000000</td>\n",
              "      <td>2.680000</td>\n",
              "      <td>10.000000</td>\n",
              "      <td>0.000000</td>\n",
              "      <td>0.000000</td>\n",
              "      <td>0.000000</td>\n",
              "      <td>0.000000</td>\n",
              "      <td>1.500000e+04</td>\n",
              "      <td>1.950000e+04</td>\n",
              "      <td>140.000000</td>\n",
              "      <td>2.000000</td>\n",
              "      <td>0.000000</td>\n",
              "      <td>0.000000</td>\n",
              "      <td>0.000000</td>\n",
              "      <td>0.000000</td>\n",
              "      <td>0.000000</td>\n",
              "      <td>0.000000</td>\n",
              "    </tr>\n",
              "    <tr>\n",
              "      <th>75%</th>\n",
              "      <td>1807.000000</td>\n",
              "      <td>0.000000</td>\n",
              "      <td>33.00000</td>\n",
              "      <td>3.000000</td>\n",
              "      <td>7.000000</td>\n",
              "      <td>7.000000</td>\n",
              "      <td>0.000000</td>\n",
              "      <td>0.000000</td>\n",
              "      <td>0.000000</td>\n",
              "      <td>1.000000</td>\n",
              "      <td>3.020000</td>\n",
              "      <td>57.000000</td>\n",
              "      <td>0.000000</td>\n",
              "      <td>0.000000</td>\n",
              "      <td>0.000000</td>\n",
              "      <td>0.000000</td>\n",
              "      <td>2.000000e+04</td>\n",
              "      <td>2.600000e+04</td>\n",
              "      <td>140.000000</td>\n",
              "      <td>2.000000</td>\n",
              "      <td>1.000000</td>\n",
              "      <td>3.000000</td>\n",
              "      <td>15000.000000</td>\n",
              "      <td>30000.000000</td>\n",
              "      <td>0.000000</td>\n",
              "      <td>0.000000</td>\n",
              "    </tr>\n",
              "    <tr>\n",
              "      <th>max</th>\n",
              "      <td>21417.000000</td>\n",
              "      <td>1.000000</td>\n",
              "      <td>128.00000</td>\n",
              "      <td>50.000000</td>\n",
              "      <td>566.000000</td>\n",
              "      <td>562.000000</td>\n",
              "      <td>542.000000</td>\n",
              "      <td>7.000000</td>\n",
              "      <td>4.000000</td>\n",
              "      <td>77.000000</td>\n",
              "      <td>71.500000</td>\n",
              "      <td>199.000000</td>\n",
              "      <td>11.000000</td>\n",
              "      <td>4.130000</td>\n",
              "      <td>6.000000</td>\n",
              "      <td>4.000000</td>\n",
              "      <td>1.500018e+09</td>\n",
              "      <td>2.000025e+09</td>\n",
              "      <td>151.000000</td>\n",
              "      <td>6.000000</td>\n",
              "      <td>12.000000</td>\n",
              "      <td>20.000000</td>\n",
              "      <td>160000.000000</td>\n",
              "      <td>300000.000000</td>\n",
              "      <td>66.000000</td>\n",
              "      <td>66.000000</td>\n",
              "    </tr>\n",
              "  </tbody>\n",
              "</table>\n",
              "</div>"
            ],
            "text/plain": [
              "              ID_EMP  SHORT_LIST_STATUS  ...  POSITION_AGE_MIN  POSITION_AGE_MAX\n",
              "count  114475.000000      114475.000000  ...     114475.000000     114475.000000\n",
              "mean     1606.834654           0.183193  ...          0.794715          3.104748\n",
              "std      3464.724252           0.386826  ...          5.719015         11.920948\n",
              "min         5.000000           0.000000  ...         -1.000000         -1.000000\n",
              "25%       279.000000           0.000000  ...         -1.000000         -1.000000\n",
              "50%       754.000000           0.000000  ...          0.000000          0.000000\n",
              "75%      1807.000000           0.000000  ...          0.000000          0.000000\n",
              "max     21417.000000           1.000000  ...         66.000000         66.000000\n",
              "\n",
              "[8 rows x 26 columns]"
            ]
          },
          "metadata": {
            "tags": []
          },
          "execution_count": 41
        }
      ]
    },
    {
      "cell_type": "code",
      "metadata": {
        "id": "JGKVG-euYdUU"
      },
      "source": [
        "#drop unnecessary column\r\n",
        "#jsk.drop(['EXP_PT_YEAR','MAX_EXPECTED_SALARY'], axis=1, inplace=True)"
      ],
      "execution_count": null,
      "outputs": []
    },
    {
      "cell_type": "code",
      "metadata": {
        "id": "V3mkTH_SyzH-"
      },
      "source": [
        "jsk_origin = jsk"
      ],
      "execution_count": 121,
      "outputs": []
    },
    {
      "cell_type": "code",
      "metadata": {
        "colab": {
          "base_uri": "https://localhost:8080/"
        },
        "id": "2UCVrpzsEFtE",
        "outputId": "ab2aa837-d4d5-4045-f093-8663bf020ab4"
      },
      "source": [
        "jsk.shape"
      ],
      "execution_count": null,
      "outputs": [
        {
          "output_type": "execute_result",
          "data": {
            "text/plain": [
              "(114475, 46)"
            ]
          },
          "metadata": {
            "tags": []
          },
          "execution_count": 98
        }
      ]
    },
    {
      "cell_type": "code",
      "metadata": {
        "colab": {
          "base_uri": "https://localhost:8080/"
        },
        "id": "DljqyGP6thba",
        "outputId": "d44c4b87-487c-4a5e-f280-3c72cd42a967"
      },
      "source": [
        "jsk.info()"
      ],
      "execution_count": null,
      "outputs": [
        {
          "output_type": "stream",
          "text": [
            "<class 'pandas.core.frame.DataFrame'>\n",
            "RangeIndex: 114475 entries, 0 to 114474\n",
            "Data columns (total 46 columns):\n",
            " #   Column                Non-Null Count   Dtype   \n",
            "---  ------                --------------   -----   \n",
            " 0   ID_EMP                114475 non-null  int64   \n",
            " 1   SHORT_LIST_STATUS     114475 non-null  int64   \n",
            " 2   AGE                   114475 non-null  int64   \n",
            " 3   ID_CITY               114475 non-null  category\n",
            " 4   GENDER_NUM            114475 non-null  category\n",
            " 5   EXP_STATUS            114475 non-null  object  \n",
            " 6   EXP_COMPANY           114475 non-null  int64   \n",
            " 7   EXP_YEAR              114475 non-null  int64   \n",
            " 8   EXP_FULL_YEAR         114475 non-null  float64 \n",
            " 9   EXP_PT_YEAR           114475 non-null  float64 \n",
            " 10  degree1_count         114475 non-null  float64 \n",
            " 11  degree1_GPA           114475 non-null  float64 \n",
            " 12  degree1_school        114475 non-null  category\n",
            " 13  degree1_major         114475 non-null  category\n",
            " 14  degree1_fac_major     114475 non-null  category\n",
            " 15  degree2_count         114475 non-null  float64 \n",
            " 16  degree2_GPA           114475 non-null  float64 \n",
            " 17  degree2_school        114475 non-null  category\n",
            " 18  degree2_major         114475 non-null  category\n",
            " 19  degree2_fac_major     114475 non-null  float64 \n",
            " 20  degree3_count         114475 non-null  float64 \n",
            " 21  degree3_GPA           114475 non-null  float64 \n",
            " 22  degree3_school        114475 non-null  category\n",
            " 23  degree3_major         114475 non-null  category\n",
            " 24  degree3_fac_major     114475 non-null  category\n",
            " 25  degree4_count         114475 non-null  float64 \n",
            " 26  degree4_GPA           114475 non-null  float64 \n",
            " 27  degree4_school        114475 non-null  category\n",
            " 28  degree4_major         114475 non-null  category\n",
            " 29  degree4_fac_major     114475 non-null  category\n",
            " 30  WORKJOB_FIELD_1       114475 non-null  category\n",
            " 31  WORKJOB_FIELD_2       114475 non-null  category\n",
            " 32  WORKJOB_FIELD_3       114475 non-null  category\n",
            " 33  MIN_EXPECTED_SALARY   114475 non-null  float64 \n",
            " 34  MAX_EXPECTED_SALARY   114475 non-null  float64 \n",
            " 35  SALARY_CURRENCY       114475 non-null  float64 \n",
            " 36  EXPECTED_SALARY_PER   114475 non-null  float64 \n",
            " 37  POSITION_SEX          114475 non-null  category\n",
            " 38  POSITION_DEGREE       114475 non-null  category\n",
            " 39  POSTION_EXP_LESS      114475 non-null  float64 \n",
            " 40  POSITION_EXP_MOST     114475 non-null  float64 \n",
            " 41  POSITION_SALARY_LESS  114475 non-null  float64 \n",
            " 42  POSITION_SALARY_MOST  114475 non-null  float64 \n",
            " 43  POSITION_AGE_MIN      114475 non-null  float64 \n",
            " 44  POSITION_AGE_MAX      114475 non-null  float64 \n",
            " 45  POSITION_JOB_FIELD    114475 non-null  category\n",
            "dtypes: category(19), float64(21), int64(5), object(1)\n",
            "memory usage: 26.4+ MB\n"
          ],
          "name": "stdout"
        }
      ]
    },
    {
      "cell_type": "code",
      "metadata": {
        "id": "NzIHzDQ4wRaz"
      },
      "source": [
        "jsk_origin = jsk"
      ],
      "execution_count": 122,
      "outputs": []
    },
    {
      "cell_type": "code",
      "metadata": {
        "id": "XIl9j8fEarUl"
      },
      "source": [
        "#import Scikit-learn\n",
        "import numpy as np\n",
        "import pandas as pd\n",
        "from sklearn.tree import DecisionTreeClassifier, export_graphviz\n",
        "from sklearn import tree\n",
        "from sklearn.model_selection import train_test_split\n",
        "from sklearn import metrics\n",
        "from sklearn.metrics import confusion_matrix\n",
        "from sklearn.datasets import make_classification\n",
        "from imblearn.over_sampling import RandomOverSampler\n",
        "from sklearn.metrics import confusion_matrix"
      ],
      "execution_count": 123,
      "outputs": []
    },
    {
      "cell_type": "code",
      "metadata": {
        "colab": {
          "base_uri": "https://localhost:8080/"
        },
        "id": "3E2p2Q5QwLqO",
        "outputId": "63c11ffc-f014-43a2-dc8f-14bf88bf9c07"
      },
      "source": [
        "jsk_origin.info()"
      ],
      "execution_count": 124,
      "outputs": [
        {
          "output_type": "stream",
          "text": [
            "<class 'pandas.core.frame.DataFrame'>\n",
            "RangeIndex: 114475 entries, 0 to 114474\n",
            "Data columns (total 46 columns):\n",
            " #   Column                Non-Null Count   Dtype   \n",
            "---  ------                --------------   -----   \n",
            " 0   ID_EMP                114475 non-null  int64   \n",
            " 1   SHORT_LIST_STATUS     114475 non-null  int64   \n",
            " 2   AGE                   114475 non-null  int64   \n",
            " 3   ID_CITY               114475 non-null  category\n",
            " 4   GENDER_NUM            114475 non-null  category\n",
            " 5   EXP_STATUS            114475 non-null  object  \n",
            " 6   EXP_COMPANY           114475 non-null  int64   \n",
            " 7   EXP_YEAR              114475 non-null  int64   \n",
            " 8   EXP_FULL_YEAR         114475 non-null  float64 \n",
            " 9   EXP_PT_YEAR           114475 non-null  float64 \n",
            " 10  degree1_count         114475 non-null  float64 \n",
            " 11  degree1_GPA           114475 non-null  float64 \n",
            " 12  degree1_school        114475 non-null  category\n",
            " 13  degree1_major         114475 non-null  category\n",
            " 14  degree1_fac_major     114475 non-null  category\n",
            " 15  degree2_count         114475 non-null  float64 \n",
            " 16  degree2_GPA           114475 non-null  float64 \n",
            " 17  degree2_school        114475 non-null  category\n",
            " 18  degree2_major         114475 non-null  category\n",
            " 19  degree2_fac_major     114475 non-null  float64 \n",
            " 20  degree3_count         114475 non-null  float64 \n",
            " 21  degree3_GPA           114475 non-null  float64 \n",
            " 22  degree3_school        114475 non-null  category\n",
            " 23  degree3_major         114475 non-null  category\n",
            " 24  degree3_fac_major     114475 non-null  category\n",
            " 25  degree4_count         114475 non-null  float64 \n",
            " 26  degree4_GPA           114475 non-null  float64 \n",
            " 27  degree4_school        114475 non-null  category\n",
            " 28  degree4_major         114475 non-null  category\n",
            " 29  degree4_fac_major     114475 non-null  category\n",
            " 30  WORKJOB_FIELD_1       114475 non-null  category\n",
            " 31  WORKJOB_FIELD_2       114475 non-null  category\n",
            " 32  WORKJOB_FIELD_3       114475 non-null  category\n",
            " 33  MIN_EXPECTED_SALARY   114475 non-null  float64 \n",
            " 34  MAX_EXPECTED_SALARY   114475 non-null  float64 \n",
            " 35  SALARY_CURRENCY       114475 non-null  float64 \n",
            " 36  EXPECTED_SALARY_PER   114475 non-null  float64 \n",
            " 37  POSITION_SEX          114475 non-null  category\n",
            " 38  POSITION_DEGREE       114475 non-null  category\n",
            " 39  POSTION_EXP_LESS      114475 non-null  float64 \n",
            " 40  POSITION_EXP_MOST     114475 non-null  float64 \n",
            " 41  POSITION_SALARY_LESS  114475 non-null  float64 \n",
            " 42  POSITION_SALARY_MOST  114475 non-null  float64 \n",
            " 43  POSITION_AGE_MIN      114475 non-null  float64 \n",
            " 44  POSITION_AGE_MAX      114475 non-null  float64 \n",
            " 45  POSITION_JOB_FIELD    114475 non-null  category\n",
            "dtypes: category(19), float64(21), int64(5), object(1)\n",
            "memory usage: 26.4+ MB\n"
          ],
          "name": "stdout"
        }
      ]
    },
    {
      "cell_type": "code",
      "metadata": {
        "colab": {
          "base_uri": "https://localhost:8080/"
        },
        "id": "gznRcogEyJ45",
        "outputId": "5c5047b1-5338-4fee-fe92-b8da0a396254"
      },
      "source": [
        "for id in ID_EMP:\r\n",
        "  jsk = jsk_origin[jsk_origin['ID_EMP'] == id]\r\n",
        "  jsk.drop(['ID_EMP'], axis=1, inplace=True)\r\n",
        "  X = jsk.drop('SHORT_LIST_STATUS',axis=1)\r\n",
        "  y = jsk['SHORT_LIST_STATUS']\r\n",
        "\r\n",
        "  X, y = make_classification(n_classes=2, class_sep=2, weights=[0.2, 0.8],\r\n",
        "                           n_informative=3, n_redundant=1, flip_y=0,\r\n",
        "                           n_features=45, n_clusters_per_class=2,\r\n",
        "                           n_samples=50000, random_state=10)\r\n",
        "  # Apply the random over-sampling\r\n",
        "  ros = RandomOverSampler()\r\n",
        "  X_resampled, y_resampled = ros.fit_sample(X, y)\r\n",
        "\r\n",
        "  # Split dataset into training set and test set\r\n",
        "  #X_train, X_test, y_train, y_test = train_test_split(X, y, test_size=0.2, random_state=1) # 80% training and 20% test\r\n",
        "  X_train, X_test, y_train, y_test = train_test_split(X_resampled, y_resampled, test_size=0.2, random_state=10)\r\n",
        "  # Create Decision Tree classifier object\r\n",
        "  decision_tree_classifier = DecisionTreeClassifier(criterion=\"entropy\", max_depth=None)\r\n",
        "\r\n",
        "  # Train Decision Tree Classifier\r\n",
        "  decision_tree_classifier.fit(X_train,y_train)\r\n",
        "  y_pred = decision_tree_classifier.predict(X_test)\r\n",
        "  score = decision_tree_classifier.score(X_test, y_test)\r\n",
        "  print(\"\\n\\n ID\", id)\r\n",
        "  print(\"\\n Accuracy\", score)\r\n",
        "  cm = confusion_matrix(y_test, y_pred)\r\n",
        "  recall = np.diag(cm) / np.sum(cm, axis=1)\r\n",
        "  print(\"\\nRecall:\\n\", pd.Series(recall)) \r\n",
        "\r\n",
        "  cm = confusion_matrix(y_test, y_pred)\r\n",
        "  print(\"Confusion Matrix (predict/actual):\\n\", pd.DataFrame(cm))\r\n",
        "\r\n",
        "  print(\"\\n \\n \",pd.Series(decision_tree_classifier.feature_importances_).sort_values(ascending=False).head(10))\r\n"
      ],
      "execution_count": 131,
      "outputs": [
        {
          "output_type": "stream",
          "text": [
            "/usr/local/lib/python3.6/dist-packages/pandas/core/frame.py:4174: SettingWithCopyWarning: \n",
            "A value is trying to be set on a copy of a slice from a DataFrame\n",
            "\n",
            "See the caveats in the documentation: https://pandas.pydata.org/pandas-docs/stable/user_guide/indexing.html#returning-a-view-versus-a-copy\n",
            "  errors=errors,\n",
            "/usr/local/lib/python3.6/dist-packages/sklearn/utils/deprecation.py:87: FutureWarning: Function safe_indexing is deprecated; safe_indexing is deprecated in version 0.22 and will be removed in version 0.24.\n",
            "  warnings.warn(msg, category=FutureWarning)\n"
          ],
          "name": "stderr"
        },
        {
          "output_type": "stream",
          "text": [
            "\n",
            "\n",
            " ID 5\n",
            "\n",
            " Accuracy 0.9936875\n",
            "\n",
            "Recall:\n",
            " 0    0.999126\n",
            "1    0.988238\n",
            "dtype: float64\n",
            "Confusion Matrix (predict/actual):\n",
            "       0     1\n",
            "0  8001     7\n",
            "1    94  7898\n",
            "\n",
            " \n",
            "  22    0.890152\n",
            "23    0.028784\n",
            "10    0.013161\n",
            "33    0.006824\n",
            "1     0.002877\n",
            "15    0.002746\n",
            "44    0.002668\n",
            "34    0.002182\n",
            "6     0.002138\n",
            "41    0.002113\n",
            "dtype: float64\n"
          ],
          "name": "stdout"
        },
        {
          "output_type": "stream",
          "text": [
            "/usr/local/lib/python3.6/dist-packages/pandas/core/frame.py:4174: SettingWithCopyWarning: \n",
            "A value is trying to be set on a copy of a slice from a DataFrame\n",
            "\n",
            "See the caveats in the documentation: https://pandas.pydata.org/pandas-docs/stable/user_guide/indexing.html#returning-a-view-versus-a-copy\n",
            "  errors=errors,\n",
            "/usr/local/lib/python3.6/dist-packages/sklearn/utils/deprecation.py:87: FutureWarning: Function safe_indexing is deprecated; safe_indexing is deprecated in version 0.22 and will be removed in version 0.24.\n",
            "  warnings.warn(msg, category=FutureWarning)\n"
          ],
          "name": "stderr"
        },
        {
          "output_type": "stream",
          "text": [
            "\n",
            "\n",
            " ID 754\n",
            "\n",
            " Accuracy 0.99425\n",
            "\n",
            "Recall:\n",
            " 0    0.998252\n",
            "1    0.990240\n",
            "dtype: float64\n",
            "Confusion Matrix (predict/actual):\n",
            "       0     1\n",
            "0  7994    14\n",
            "1    78  7914\n",
            "\n",
            " \n",
            "  22    0.895659\n",
            "23    0.033697\n",
            "10    0.010634\n",
            "33    0.006685\n",
            "6     0.002698\n",
            "15    0.002101\n",
            "9     0.001998\n",
            "21    0.001974\n",
            "35    0.001897\n",
            "34    0.001868\n",
            "dtype: float64\n"
          ],
          "name": "stdout"
        },
        {
          "output_type": "stream",
          "text": [
            "/usr/local/lib/python3.6/dist-packages/pandas/core/frame.py:4174: SettingWithCopyWarning: \n",
            "A value is trying to be set on a copy of a slice from a DataFrame\n",
            "\n",
            "See the caveats in the documentation: https://pandas.pydata.org/pandas-docs/stable/user_guide/indexing.html#returning-a-view-versus-a-copy\n",
            "  errors=errors,\n",
            "/usr/local/lib/python3.6/dist-packages/sklearn/utils/deprecation.py:87: FutureWarning: Function safe_indexing is deprecated; safe_indexing is deprecated in version 0.22 and will be removed in version 0.24.\n",
            "  warnings.warn(msg, category=FutureWarning)\n"
          ],
          "name": "stderr"
        },
        {
          "output_type": "stream",
          "text": [
            "\n",
            "\n",
            " ID 19246\n",
            "\n",
            " Accuracy 0.9934375\n",
            "\n",
            "Recall:\n",
            " 0    0.998626\n",
            "1    0.988238\n",
            "dtype: float64\n",
            "Confusion Matrix (predict/actual):\n",
            "       0     1\n",
            "0  7997    11\n",
            "1    94  7898\n",
            "\n",
            " \n",
            "  22    0.890823\n",
            "23    0.033076\n",
            "10    0.010830\n",
            "33    0.005121\n",
            "25    0.003320\n",
            "17    0.002905\n",
            "44    0.002472\n",
            "9     0.002308\n",
            "11    0.002101\n",
            "29    0.002087\n",
            "dtype: float64\n"
          ],
          "name": "stdout"
        },
        {
          "output_type": "stream",
          "text": [
            "/usr/local/lib/python3.6/dist-packages/pandas/core/frame.py:4174: SettingWithCopyWarning: \n",
            "A value is trying to be set on a copy of a slice from a DataFrame\n",
            "\n",
            "See the caveats in the documentation: https://pandas.pydata.org/pandas-docs/stable/user_guide/indexing.html#returning-a-view-versus-a-copy\n",
            "  errors=errors,\n",
            "/usr/local/lib/python3.6/dist-packages/sklearn/utils/deprecation.py:87: FutureWarning: Function safe_indexing is deprecated; safe_indexing is deprecated in version 0.22 and will be removed in version 0.24.\n",
            "  warnings.warn(msg, category=FutureWarning)\n"
          ],
          "name": "stderr"
        },
        {
          "output_type": "stream",
          "text": [
            "\n",
            "\n",
            " ID 279\n",
            "\n",
            " Accuracy 0.9921875\n",
            "\n",
            "Recall:\n",
            " 0    0.997128\n",
            "1    0.987237\n",
            "dtype: float64\n",
            "Confusion Matrix (predict/actual):\n",
            "       0     1\n",
            "0  7985    23\n",
            "1   102  7890\n",
            "\n",
            " \n",
            "  22    0.894383\n",
            "23    0.033763\n",
            "10    0.009563\n",
            "33    0.007813\n",
            "20    0.002518\n",
            "34    0.002495\n",
            "9     0.002173\n",
            "8     0.002168\n",
            "15    0.002001\n",
            "6     0.001997\n",
            "dtype: float64\n"
          ],
          "name": "stdout"
        },
        {
          "output_type": "stream",
          "text": [
            "/usr/local/lib/python3.6/dist-packages/pandas/core/frame.py:4174: SettingWithCopyWarning: \n",
            "A value is trying to be set on a copy of a slice from a DataFrame\n",
            "\n",
            "See the caveats in the documentation: https://pandas.pydata.org/pandas-docs/stable/user_guide/indexing.html#returning-a-view-versus-a-copy\n",
            "  errors=errors,\n",
            "/usr/local/lib/python3.6/dist-packages/sklearn/utils/deprecation.py:87: FutureWarning: Function safe_indexing is deprecated; safe_indexing is deprecated in version 0.22 and will be removed in version 0.24.\n",
            "  warnings.warn(msg, category=FutureWarning)\n"
          ],
          "name": "stderr"
        },
        {
          "output_type": "stream",
          "text": [
            "\n",
            "\n",
            " ID 1393\n",
            "\n",
            " Accuracy 0.9933125\n",
            "\n",
            "Recall:\n",
            " 0    0.998252\n",
            "1    0.988363\n",
            "dtype: float64\n",
            "Confusion Matrix (predict/actual):\n",
            "       0     1\n",
            "0  7994    14\n",
            "1    93  7899\n",
            "\n",
            " \n",
            "  22    0.891764\n",
            "23    0.032050\n",
            "10    0.010758\n",
            "33    0.006093\n",
            "8     0.003245\n",
            "15    0.002964\n",
            "17    0.002839\n",
            "31    0.002767\n",
            "34    0.002542\n",
            "42    0.002302\n",
            "dtype: float64\n"
          ],
          "name": "stdout"
        },
        {
          "output_type": "stream",
          "text": [
            "/usr/local/lib/python3.6/dist-packages/pandas/core/frame.py:4174: SettingWithCopyWarning: \n",
            "A value is trying to be set on a copy of a slice from a DataFrame\n",
            "\n",
            "See the caveats in the documentation: https://pandas.pydata.org/pandas-docs/stable/user_guide/indexing.html#returning-a-view-versus-a-copy\n",
            "  errors=errors,\n",
            "/usr/local/lib/python3.6/dist-packages/sklearn/utils/deprecation.py:87: FutureWarning: Function safe_indexing is deprecated; safe_indexing is deprecated in version 0.22 and will be removed in version 0.24.\n",
            "  warnings.warn(msg, category=FutureWarning)\n"
          ],
          "name": "stderr"
        },
        {
          "output_type": "stream",
          "text": [
            "\n",
            "\n",
            " ID 2371\n",
            "\n",
            " Accuracy 0.992875\n",
            "\n",
            "Recall:\n",
            " 0    0.998626\n",
            "1    0.987112\n",
            "dtype: float64\n",
            "Confusion Matrix (predict/actual):\n",
            "       0     1\n",
            "0  7997    11\n",
            "1   103  7889\n",
            "\n",
            " \n",
            "  22    0.890535\n",
            "23    0.030437\n",
            "10    0.011200\n",
            "33    0.007534\n",
            "6     0.003162\n",
            "26    0.002709\n",
            "41    0.002621\n",
            "30    0.002458\n",
            "15    0.002336\n",
            "19    0.002294\n",
            "dtype: float64\n"
          ],
          "name": "stdout"
        },
        {
          "output_type": "stream",
          "text": [
            "/usr/local/lib/python3.6/dist-packages/pandas/core/frame.py:4174: SettingWithCopyWarning: \n",
            "A value is trying to be set on a copy of a slice from a DataFrame\n",
            "\n",
            "See the caveats in the documentation: https://pandas.pydata.org/pandas-docs/stable/user_guide/indexing.html#returning-a-view-versus-a-copy\n",
            "  errors=errors,\n",
            "/usr/local/lib/python3.6/dist-packages/sklearn/utils/deprecation.py:87: FutureWarning: Function safe_indexing is deprecated; safe_indexing is deprecated in version 0.22 and will be removed in version 0.24.\n",
            "  warnings.warn(msg, category=FutureWarning)\n"
          ],
          "name": "stderr"
        },
        {
          "output_type": "stream",
          "text": [
            "\n",
            "\n",
            " ID 3349\n",
            "\n",
            " Accuracy 0.993375\n",
            "\n",
            "Recall:\n",
            " 0    0.999001\n",
            "1    0.987738\n",
            "dtype: float64\n",
            "Confusion Matrix (predict/actual):\n",
            "       0     1\n",
            "0  8000     8\n",
            "1    98  7894\n",
            "\n",
            " \n",
            "  22    0.890465\n",
            "23    0.030809\n",
            "33    0.009278\n",
            "10    0.007672\n",
            "4     0.003196\n",
            "15    0.002803\n",
            "0     0.002764\n",
            "16    0.002567\n",
            "26    0.002455\n",
            "42    0.002446\n",
            "dtype: float64\n"
          ],
          "name": "stdout"
        },
        {
          "output_type": "stream",
          "text": [
            "/usr/local/lib/python3.6/dist-packages/pandas/core/frame.py:4174: SettingWithCopyWarning: \n",
            "A value is trying to be set on a copy of a slice from a DataFrame\n",
            "\n",
            "See the caveats in the documentation: https://pandas.pydata.org/pandas-docs/stable/user_guide/indexing.html#returning-a-view-versus-a-copy\n",
            "  errors=errors,\n",
            "/usr/local/lib/python3.6/dist-packages/sklearn/utils/deprecation.py:87: FutureWarning: Function safe_indexing is deprecated; safe_indexing is deprecated in version 0.22 and will be removed in version 0.24.\n",
            "  warnings.warn(msg, category=FutureWarning)\n"
          ],
          "name": "stderr"
        },
        {
          "output_type": "stream",
          "text": [
            "\n",
            "\n",
            " ID 945\n",
            "\n",
            " Accuracy 0.99275\n",
            "\n",
            "Recall:\n",
            " 0    0.997627\n",
            "1    0.987863\n",
            "dtype: float64\n",
            "Confusion Matrix (predict/actual):\n",
            "       0     1\n",
            "0  7989    19\n",
            "1    97  7895\n",
            "\n",
            " \n",
            "  22    0.892870\n",
            "23    0.032100\n",
            "10    0.008954\n",
            "33    0.008847\n",
            "12    0.003130\n",
            "15    0.002861\n",
            "6     0.002653\n",
            "8     0.002629\n",
            "1     0.002338\n",
            "42    0.002273\n",
            "dtype: float64\n"
          ],
          "name": "stdout"
        },
        {
          "output_type": "stream",
          "text": [
            "/usr/local/lib/python3.6/dist-packages/pandas/core/frame.py:4174: SettingWithCopyWarning: \n",
            "A value is trying to be set on a copy of a slice from a DataFrame\n",
            "\n",
            "See the caveats in the documentation: https://pandas.pydata.org/pandas-docs/stable/user_guide/indexing.html#returning-a-view-versus-a-copy\n",
            "  errors=errors,\n",
            "/usr/local/lib/python3.6/dist-packages/sklearn/utils/deprecation.py:87: FutureWarning: Function safe_indexing is deprecated; safe_indexing is deprecated in version 0.22 and will be removed in version 0.24.\n",
            "  warnings.warn(msg, category=FutureWarning)\n"
          ],
          "name": "stderr"
        },
        {
          "output_type": "stream",
          "text": [
            "\n",
            "\n",
            " ID 21417\n",
            "\n",
            " Accuracy 0.99375\n",
            "\n",
            "Recall:\n",
            " 0    0.998252\n",
            "1    0.989239\n",
            "dtype: float64\n",
            "Confusion Matrix (predict/actual):\n",
            "       0     1\n",
            "0  7994    14\n",
            "1    86  7906\n",
            "\n",
            " \n",
            "  22    0.889700\n",
            "23    0.031130\n",
            "10    0.009449\n",
            "33    0.009099\n",
            "34    0.002668\n",
            "24    0.002357\n",
            "4     0.002286\n",
            "0     0.002226\n",
            "12    0.002111\n",
            "38    0.002079\n",
            "dtype: float64\n"
          ],
          "name": "stdout"
        },
        {
          "output_type": "stream",
          "text": [
            "/usr/local/lib/python3.6/dist-packages/pandas/core/frame.py:4174: SettingWithCopyWarning: \n",
            "A value is trying to be set on a copy of a slice from a DataFrame\n",
            "\n",
            "See the caveats in the documentation: https://pandas.pydata.org/pandas-docs/stable/user_guide/indexing.html#returning-a-view-versus-a-copy\n",
            "  errors=errors,\n",
            "/usr/local/lib/python3.6/dist-packages/sklearn/utils/deprecation.py:87: FutureWarning: Function safe_indexing is deprecated; safe_indexing is deprecated in version 0.22 and will be removed in version 0.24.\n",
            "  warnings.warn(msg, category=FutureWarning)\n"
          ],
          "name": "stderr"
        },
        {
          "output_type": "stream",
          "text": [
            "\n",
            "\n",
            " ID 869\n",
            "\n",
            " Accuracy 0.993\n",
            "\n",
            "Recall:\n",
            " 0    0.999126\n",
            "1    0.986862\n",
            "dtype: float64\n",
            "Confusion Matrix (predict/actual):\n",
            "       0     1\n",
            "0  8001     7\n",
            "1   105  7887\n",
            "\n",
            " \n",
            "  22    0.892069\n",
            "23    0.031787\n",
            "10    0.011962\n",
            "33    0.007715\n",
            "14    0.002966\n",
            "41    0.002811\n",
            "26    0.002676\n",
            "8     0.002181\n",
            "7     0.002112\n",
            "32    0.002045\n",
            "dtype: float64\n"
          ],
          "name": "stdout"
        },
        {
          "output_type": "stream",
          "text": [
            "/usr/local/lib/python3.6/dist-packages/pandas/core/frame.py:4174: SettingWithCopyWarning: \n",
            "A value is trying to be set on a copy of a slice from a DataFrame\n",
            "\n",
            "See the caveats in the documentation: https://pandas.pydata.org/pandas-docs/stable/user_guide/indexing.html#returning-a-view-versus-a-copy\n",
            "  errors=errors,\n",
            "/usr/local/lib/python3.6/dist-packages/sklearn/utils/deprecation.py:87: FutureWarning: Function safe_indexing is deprecated; safe_indexing is deprecated in version 0.22 and will be removed in version 0.24.\n",
            "  warnings.warn(msg, category=FutureWarning)\n"
          ],
          "name": "stderr"
        },
        {
          "output_type": "stream",
          "text": [
            "\n",
            "\n",
            " ID 677\n",
            "\n",
            " Accuracy 0.9935\n",
            "\n",
            "Recall:\n",
            " 0    0.999001\n",
            "1    0.987988\n",
            "dtype: float64\n",
            "Confusion Matrix (predict/actual):\n",
            "       0     1\n",
            "0  8000     8\n",
            "1    96  7896\n",
            "\n",
            " \n",
            "  22    0.896001\n",
            "23    0.031075\n",
            "33    0.009044\n",
            "10    0.008462\n",
            "43    0.002596\n",
            "30    0.002512\n",
            "6     0.002339\n",
            "8     0.002289\n",
            "32    0.002091\n",
            "15    0.002078\n",
            "dtype: float64\n"
          ],
          "name": "stdout"
        },
        {
          "output_type": "stream",
          "text": [
            "/usr/local/lib/python3.6/dist-packages/pandas/core/frame.py:4174: SettingWithCopyWarning: \n",
            "A value is trying to be set on a copy of a slice from a DataFrame\n",
            "\n",
            "See the caveats in the documentation: https://pandas.pydata.org/pandas-docs/stable/user_guide/indexing.html#returning-a-view-versus-a-copy\n",
            "  errors=errors,\n",
            "/usr/local/lib/python3.6/dist-packages/sklearn/utils/deprecation.py:87: FutureWarning: Function safe_indexing is deprecated; safe_indexing is deprecated in version 0.22 and will be removed in version 0.24.\n",
            "  warnings.warn(msg, category=FutureWarning)\n"
          ],
          "name": "stderr"
        },
        {
          "output_type": "stream",
          "text": [
            "\n",
            "\n",
            " ID 4490\n",
            "\n",
            " Accuracy 0.9944375\n",
            "\n",
            "Recall:\n",
            " 0    0.999001\n",
            "1    0.989865\n",
            "dtype: float64\n",
            "Confusion Matrix (predict/actual):\n",
            "       0     1\n",
            "0  8000     8\n",
            "1    81  7911\n",
            "\n",
            " \n",
            "  22    0.894845\n",
            "23    0.031793\n",
            "10    0.009531\n",
            "33    0.006947\n",
            "17    0.003095\n",
            "8     0.002420\n",
            "29    0.002351\n",
            "41    0.002283\n",
            "35    0.002268\n",
            "15    0.002168\n",
            "dtype: float64\n"
          ],
          "name": "stdout"
        },
        {
          "output_type": "stream",
          "text": [
            "/usr/local/lib/python3.6/dist-packages/pandas/core/frame.py:4174: SettingWithCopyWarning: \n",
            "A value is trying to be set on a copy of a slice from a DataFrame\n",
            "\n",
            "See the caveats in the documentation: https://pandas.pydata.org/pandas-docs/stable/user_guide/indexing.html#returning-a-view-versus-a-copy\n",
            "  errors=errors,\n",
            "/usr/local/lib/python3.6/dist-packages/sklearn/utils/deprecation.py:87: FutureWarning: Function safe_indexing is deprecated; safe_indexing is deprecated in version 0.22 and will be removed in version 0.24.\n",
            "  warnings.warn(msg, category=FutureWarning)\n"
          ],
          "name": "stderr"
        },
        {
          "output_type": "stream",
          "text": [
            "\n",
            "\n",
            " ID 16888\n",
            "\n",
            " Accuracy 0.994\n",
            "\n",
            "Recall:\n",
            " 0    0.999001\n",
            "1    0.988989\n",
            "dtype: float64\n",
            "Confusion Matrix (predict/actual):\n",
            "       0     1\n",
            "0  8000     8\n",
            "1    88  7904\n",
            "\n",
            " \n",
            "  22    0.890471\n",
            "23    0.030140\n",
            "10    0.013202\n",
            "33    0.006067\n",
            "44    0.003062\n",
            "25    0.002931\n",
            "34    0.002728\n",
            "17    0.002404\n",
            "24    0.002401\n",
            "9     0.002385\n",
            "dtype: float64\n"
          ],
          "name": "stdout"
        },
        {
          "output_type": "stream",
          "text": [
            "/usr/local/lib/python3.6/dist-packages/pandas/core/frame.py:4174: SettingWithCopyWarning: \n",
            "A value is trying to be set on a copy of a slice from a DataFrame\n",
            "\n",
            "See the caveats in the documentation: https://pandas.pydata.org/pandas-docs/stable/user_guide/indexing.html#returning-a-view-versus-a-copy\n",
            "  errors=errors,\n",
            "/usr/local/lib/python3.6/dist-packages/sklearn/utils/deprecation.py:87: FutureWarning: Function safe_indexing is deprecated; safe_indexing is deprecated in version 0.22 and will be removed in version 0.24.\n",
            "  warnings.warn(msg, category=FutureWarning)\n"
          ],
          "name": "stderr"
        },
        {
          "output_type": "stream",
          "text": [
            "\n",
            "\n",
            " ID 1050\n",
            "\n",
            " Accuracy 0.9926875\n",
            "\n",
            "Recall:\n",
            " 0    0.998876\n",
            "1    0.986486\n",
            "dtype: float64\n",
            "Confusion Matrix (predict/actual):\n",
            "       0     1\n",
            "0  7999     9\n",
            "1   108  7884\n",
            "\n",
            " \n",
            "  22    0.890124\n",
            "23    0.028591\n",
            "10    0.013833\n",
            "33    0.006680\n",
            "15    0.003380\n",
            "2     0.002749\n",
            "4     0.002541\n",
            "35    0.002235\n",
            "8     0.002139\n",
            "42    0.002121\n",
            "dtype: float64\n"
          ],
          "name": "stdout"
        },
        {
          "output_type": "stream",
          "text": [
            "/usr/local/lib/python3.6/dist-packages/pandas/core/frame.py:4174: SettingWithCopyWarning: \n",
            "A value is trying to be set on a copy of a slice from a DataFrame\n",
            "\n",
            "See the caveats in the documentation: https://pandas.pydata.org/pandas-docs/stable/user_guide/indexing.html#returning-a-view-versus-a-copy\n",
            "  errors=errors,\n",
            "/usr/local/lib/python3.6/dist-packages/sklearn/utils/deprecation.py:87: FutureWarning: Function safe_indexing is deprecated; safe_indexing is deprecated in version 0.22 and will be removed in version 0.24.\n",
            "  warnings.warn(msg, category=FutureWarning)\n"
          ],
          "name": "stderr"
        },
        {
          "output_type": "stream",
          "text": [
            "\n",
            "\n",
            " ID 1807\n",
            "\n",
            " Accuracy 0.993375\n",
            "\n",
            "Recall:\n",
            " 0    0.998377\n",
            "1    0.988363\n",
            "dtype: float64\n",
            "Confusion Matrix (predict/actual):\n",
            "       0     1\n",
            "0  7995    13\n",
            "1    93  7899\n",
            "\n",
            " \n",
            "  22    0.892867\n",
            "23    0.030508\n",
            "10    0.010664\n",
            "33    0.008395\n",
            "1     0.002880\n",
            "37    0.002721\n",
            "8     0.002624\n",
            "19    0.002574\n",
            "43    0.002085\n",
            "20    0.001961\n",
            "dtype: float64\n"
          ],
          "name": "stdout"
        },
        {
          "output_type": "stream",
          "text": [
            "/usr/local/lib/python3.6/dist-packages/pandas/core/frame.py:4174: SettingWithCopyWarning: \n",
            "A value is trying to be set on a copy of a slice from a DataFrame\n",
            "\n",
            "See the caveats in the documentation: https://pandas.pydata.org/pandas-docs/stable/user_guide/indexing.html#returning-a-view-versus-a-copy\n",
            "  errors=errors,\n",
            "/usr/local/lib/python3.6/dist-packages/sklearn/utils/deprecation.py:87: FutureWarning: Function safe_indexing is deprecated; safe_indexing is deprecated in version 0.22 and will be removed in version 0.24.\n",
            "  warnings.warn(msg, category=FutureWarning)\n"
          ],
          "name": "stderr"
        },
        {
          "output_type": "stream",
          "text": [
            "\n",
            "\n",
            " ID 46\n",
            "\n",
            " Accuracy 0.9935\n",
            "\n",
            "Recall:\n",
            " 0    0.997752\n",
            "1    0.989239\n",
            "dtype: float64\n",
            "Confusion Matrix (predict/actual):\n",
            "       0     1\n",
            "0  7990    18\n",
            "1    86  7906\n",
            "\n",
            " \n",
            "  22    0.891840\n",
            "23    0.030404\n",
            "10    0.012167\n",
            "33    0.007426\n",
            "9     0.002691\n",
            "1     0.002507\n",
            "30    0.002426\n",
            "39    0.002343\n",
            "3     0.002024\n",
            "6     0.002003\n",
            "dtype: float64\n"
          ],
          "name": "stdout"
        },
        {
          "output_type": "stream",
          "text": [
            "/usr/local/lib/python3.6/dist-packages/pandas/core/frame.py:4174: SettingWithCopyWarning: \n",
            "A value is trying to be set on a copy of a slice from a DataFrame\n",
            "\n",
            "See the caveats in the documentation: https://pandas.pydata.org/pandas-docs/stable/user_guide/indexing.html#returning-a-view-versus-a-copy\n",
            "  errors=errors,\n",
            "/usr/local/lib/python3.6/dist-packages/sklearn/utils/deprecation.py:87: FutureWarning: Function safe_indexing is deprecated; safe_indexing is deprecated in version 0.22 and will be removed in version 0.24.\n",
            "  warnings.warn(msg, category=FutureWarning)\n"
          ],
          "name": "stderr"
        },
        {
          "output_type": "stream",
          "text": [
            "\n",
            "\n",
            " ID 321\n",
            "\n",
            " Accuracy 0.9930625\n",
            "\n",
            "Recall:\n",
            " 0    0.998501\n",
            "1    0.987613\n",
            "dtype: float64\n",
            "Confusion Matrix (predict/actual):\n",
            "       0     1\n",
            "0  7996    12\n",
            "1    99  7893\n",
            "\n",
            " \n",
            "  22    0.892085\n",
            "23    0.030395\n",
            "10    0.011038\n",
            "33    0.009655\n",
            "4     0.002559\n",
            "6     0.002451\n",
            "24    0.002323\n",
            "1     0.002089\n",
            "41    0.002089\n",
            "15    0.002055\n",
            "dtype: float64\n"
          ],
          "name": "stdout"
        }
      ]
    },
    {
      "cell_type": "code",
      "metadata": {
        "colab": {
          "base_uri": "https://localhost:8080/"
        },
        "id": "ce6WFu6DmqBa",
        "outputId": "969d9b45-87aa-455f-d140-8e7e51760677"
      },
      "source": [
        ""
      ],
      "execution_count": null,
      "outputs": [
        {
          "output_type": "execute_result",
          "data": {
            "text/plain": [
              "array([[ 0.1651987 , -0.51376302,  0.22030274, ..., -0.58807313,\n",
              "        -0.08662579, -2.21228909],\n",
              "       [ 0.24976081,  0.02828069, -0.51183196, ...,  0.87467859,\n",
              "         0.87473644, -1.48732678],\n",
              "       [ 0.38524136, -0.73043526,  0.97174816, ...,  0.49271794,\n",
              "        -0.25246955, -2.35675771],\n",
              "       ...,\n",
              "       [ 1.37902031,  0.6026811 , -1.59374802, ..., -0.99938735,\n",
              "         0.18288017, -1.07893635],\n",
              "       [ 0.80410144,  0.32173315, -0.15243739, ..., -0.87799215,\n",
              "        -0.26497332, -2.59858535],\n",
              "       [-0.62490094, -0.1116542 ,  0.2750505 , ...,  1.60708058,\n",
              "         0.6763112 , -2.01062919]])"
            ]
          },
          "metadata": {
            "tags": []
          },
          "execution_count": 24
        }
      ]
    },
    {
      "cell_type": "code",
      "metadata": {
        "colab": {
          "base_uri": "https://localhost:8080/"
        },
        "id": "WMNhTEPsY3BX",
        "outputId": "45c61289-0ef6-4ce8-c3b0-da97d32fcab9"
      },
      "source": [
        "#Create Train and Evaluate dataset\n",
        "X = jsk.drop('SHORT_LIST_STATUS',axis=1)\n",
        "y = jsk['SHORT_LIST_STATUS']\n",
        "\n",
        "# Split dataset into training set and test set\n",
        "X_train, X_test, y_train, y_test = train_test_split(X, y, test_size=0.2, shuffle=False) # 70% training and 30% test\n",
        "\n",
        "print(\"Training features/target:\", X_train.shape, y_train.shape)\n",
        "print(\"Testing features/target:\", X_test.shape, y_test.shape)"
      ],
      "execution_count": null,
      "outputs": [
        {
          "output_type": "stream",
          "text": [
            "Training features/target: (68, 37) (68,)\n",
            "Testing features/target: (17, 37) (17,)\n"
          ],
          "name": "stdout"
        }
      ]
    },
    {
      "cell_type": "code",
      "metadata": {
        "colab": {
          "base_uri": "https://localhost:8080/"
        },
        "id": "4JYd6pHCavqR",
        "outputId": "a3c51fa3-ec51-4656-d14a-56175110523b"
      },
      "source": [
        "# Create Decision Tree classifer object\n",
        "decision_tree_classifier = DecisionTreeClassifier(criterion=\"entropy\", max_depth=None)\n",
        "\n",
        "# Train Decision Tree Classifer\n",
        "decision_tree_classifier.fit(X_train,y_train)"
      ],
      "execution_count": null,
      "outputs": [
        {
          "output_type": "execute_result",
          "data": {
            "text/plain": [
              "DecisionTreeClassifier(ccp_alpha=0.0, class_weight=None, criterion='entropy',\n",
              "                       max_depth=None, max_features=None, max_leaf_nodes=None,\n",
              "                       min_impurity_decrease=0.0, min_impurity_split=None,\n",
              "                       min_samples_leaf=1, min_samples_split=2,\n",
              "                       min_weight_fraction_leaf=0.0, presort='deprecated',\n",
              "                       random_state=None, splitter='best')"
            ]
          },
          "metadata": {
            "tags": []
          },
          "execution_count": 22
        }
      ]
    },
    {
      "cell_type": "code",
      "metadata": {
        "colab": {
          "base_uri": "https://localhost:8080/"
        },
        "id": "_42UVtQldFoB",
        "outputId": "9e30e10b-6620-4404-b4cf-3216c7995ea8"
      },
      "source": [
        "decision_tree_classifier.score(X_test, y_test)"
      ],
      "execution_count": null,
      "outputs": [
        {
          "output_type": "execute_result",
          "data": {
            "text/plain": [
              "0.6470588235294118"
            ]
          },
          "metadata": {
            "tags": []
          },
          "execution_count": 23
        }
      ]
    },
    {
      "cell_type": "code",
      "metadata": {
        "id": "wliRZeVssn71"
      },
      "source": [
        "y_pred = decision_tree_classifier.predict(X_test)"
      ],
      "execution_count": null,
      "outputs": []
    },
    {
      "cell_type": "code",
      "metadata": {
        "colab": {
          "base_uri": "https://localhost:8080/"
        },
        "id": "_qUi6AHGsx7J",
        "outputId": "27bc3c68-1aee-47bf-a431-5a5d3a987b98"
      },
      "source": [
        "from sklearn.metrics import confusion_matrix\r\n",
        "cm = confusion_matrix(y_test, y_pred)\r\n",
        "print(\"Confusion Matrix (predict/actual):\\n\", pd.DataFrame(cm))"
      ],
      "execution_count": null,
      "outputs": [
        {
          "output_type": "stream",
          "text": [
            "Confusion Matrix (predict/actual):\n",
            "    0  1\n",
            "0  8  4\n",
            "1  2  3\n"
          ],
          "name": "stdout"
        }
      ]
    },
    {
      "cell_type": "code",
      "metadata": {
        "colab": {
          "base_uri": "https://localhost:8080/"
        },
        "id": "JDy1v_Sfs3MU",
        "outputId": "9972f3ef-73ec-436a-cf81-01bcd0ae7fa0"
      },
      "source": [
        "recall = np.diag(cm) / np.sum(cm, axis=1)\r\n",
        "print(\"\\nRecall:\\n\", pd.Series(recall))"
      ],
      "execution_count": null,
      "outputs": [
        {
          "output_type": "stream",
          "text": [
            "\n",
            "Recall:\n",
            " 0    0.666667\n",
            "1    0.600000\n",
            "dtype: float64\n"
          ],
          "name": "stdout"
        }
      ]
    },
    {
      "cell_type": "code",
      "metadata": {
        "colab": {
          "base_uri": "https://localhost:8080/",
          "height": 550
        },
        "id": "xdUq5qmKPxNE",
        "outputId": "1fbe171b-4b0b-41ab-9f58-9c753bb5a0b3"
      },
      "source": [
        "dfoutput=pd.DataFrame({'Actual':y_test, 'Predicted':y_pred})\r\n",
        "dfoutput"
      ],
      "execution_count": null,
      "outputs": [
        {
          "output_type": "execute_result",
          "data": {
            "text/html": [
              "<div>\n",
              "<style scoped>\n",
              "    .dataframe tbody tr th:only-of-type {\n",
              "        vertical-align: middle;\n",
              "    }\n",
              "\n",
              "    .dataframe tbody tr th {\n",
              "        vertical-align: top;\n",
              "    }\n",
              "\n",
              "    .dataframe thead th {\n",
              "        text-align: right;\n",
              "    }\n",
              "</style>\n",
              "<table border=\"1\" class=\"dataframe\">\n",
              "  <thead>\n",
              "    <tr style=\"text-align: right;\">\n",
              "      <th></th>\n",
              "      <th>Actual</th>\n",
              "      <th>Predicted</th>\n",
              "    </tr>\n",
              "  </thead>\n",
              "  <tbody>\n",
              "    <tr>\n",
              "      <th>88698</th>\n",
              "      <td>0</td>\n",
              "      <td>0</td>\n",
              "    </tr>\n",
              "    <tr>\n",
              "      <th>88699</th>\n",
              "      <td>1</td>\n",
              "      <td>0</td>\n",
              "    </tr>\n",
              "    <tr>\n",
              "      <th>88700</th>\n",
              "      <td>0</td>\n",
              "      <td>0</td>\n",
              "    </tr>\n",
              "    <tr>\n",
              "      <th>88701</th>\n",
              "      <td>0</td>\n",
              "      <td>1</td>\n",
              "    </tr>\n",
              "    <tr>\n",
              "      <th>88702</th>\n",
              "      <td>0</td>\n",
              "      <td>0</td>\n",
              "    </tr>\n",
              "    <tr>\n",
              "      <th>88703</th>\n",
              "      <td>0</td>\n",
              "      <td>1</td>\n",
              "    </tr>\n",
              "    <tr>\n",
              "      <th>88704</th>\n",
              "      <td>0</td>\n",
              "      <td>1</td>\n",
              "    </tr>\n",
              "    <tr>\n",
              "      <th>88705</th>\n",
              "      <td>0</td>\n",
              "      <td>0</td>\n",
              "    </tr>\n",
              "    <tr>\n",
              "      <th>88706</th>\n",
              "      <td>0</td>\n",
              "      <td>1</td>\n",
              "    </tr>\n",
              "    <tr>\n",
              "      <th>88707</th>\n",
              "      <td>0</td>\n",
              "      <td>0</td>\n",
              "    </tr>\n",
              "    <tr>\n",
              "      <th>88708</th>\n",
              "      <td>0</td>\n",
              "      <td>0</td>\n",
              "    </tr>\n",
              "    <tr>\n",
              "      <th>88709</th>\n",
              "      <td>0</td>\n",
              "      <td>0</td>\n",
              "    </tr>\n",
              "    <tr>\n",
              "      <th>88710</th>\n",
              "      <td>0</td>\n",
              "      <td>0</td>\n",
              "    </tr>\n",
              "    <tr>\n",
              "      <th>88711</th>\n",
              "      <td>1</td>\n",
              "      <td>1</td>\n",
              "    </tr>\n",
              "    <tr>\n",
              "      <th>88920</th>\n",
              "      <td>1</td>\n",
              "      <td>0</td>\n",
              "    </tr>\n",
              "    <tr>\n",
              "      <th>96084</th>\n",
              "      <td>1</td>\n",
              "      <td>1</td>\n",
              "    </tr>\n",
              "    <tr>\n",
              "      <th>96085</th>\n",
              "      <td>1</td>\n",
              "      <td>1</td>\n",
              "    </tr>\n",
              "  </tbody>\n",
              "</table>\n",
              "</div>"
            ],
            "text/plain": [
              "       Actual  Predicted\n",
              "88698       0          0\n",
              "88699       1          0\n",
              "88700       0          0\n",
              "88701       0          1\n",
              "88702       0          0\n",
              "88703       0          1\n",
              "88704       0          1\n",
              "88705       0          0\n",
              "88706       0          1\n",
              "88707       0          0\n",
              "88708       0          0\n",
              "88709       0          0\n",
              "88710       0          0\n",
              "88711       1          1\n",
              "88920       1          0\n",
              "96084       1          1\n",
              "96085       1          1"
            ]
          },
          "metadata": {
            "tags": []
          },
          "execution_count": 27
        }
      ]
    },
    {
      "cell_type": "code",
      "metadata": {
        "colab": {
          "base_uri": "https://localhost:8080/"
        },
        "id": "btYezojwP8JL",
        "outputId": "56def064-3279-415c-ef26-c6e49c50f4a5"
      },
      "source": [
        "print(\"Accuracy:\",metrics.accuracy_score(y_test, y_pred))"
      ],
      "execution_count": null,
      "outputs": [
        {
          "output_type": "stream",
          "text": [
            "Accuracy: 0.6470588235294118\n"
          ],
          "name": "stdout"
        }
      ]
    },
    {
      "cell_type": "code",
      "metadata": {
        "colab": {
          "base_uri": "https://localhost:8080/",
          "height": 428
        },
        "id": "f2Jh2-BbvnnQ",
        "outputId": "6f91cbb1-4be6-4eba-ec7b-a8a326a446d8"
      },
      "source": [
        "%matplotlib inline\n",
        "pd.Series(decision_tree_classifier.feature_importances_, index=X.columns).plot.barh(figsize=(18,7));"
      ],
      "execution_count": null,
      "outputs": [
        {
          "output_type": "display_data",
          "data": {
            "image/png": "[encoded data removed]",
            "text/plain": [
              "<Figure size 1296x504 with 1 Axes>"
            ]
          },
          "metadata": {
            "tags": [],
            "needs_background": "light"
          }
        }
      ]
    },
    {
      "cell_type": "code",
      "metadata": {
        "colab": {
          "base_uri": "https://localhost:8080/"
        },
        "id": "ppqGiQGUotCE",
        "outputId": "cc05c479-653b-45e1-e1b5-9a6b2efcd280"
      },
      "source": [
        "pd.Series(decision_tree_classifier.feature_importances_, index=X.columns).sort_values(ascending=False).head(30)"
      ],
      "execution_count": null,
      "outputs": [
        {
          "output_type": "execute_result",
          "data": {
            "text/plain": [
              "POSITION_SALARY_LESS    0.361019\n",
              "degree2_fac_major       0.137521\n",
              "POSTION_EXP_LESS        0.122584\n",
              "GENDER_NUM              0.103639\n",
              "WORKJOB_FIELD_3         0.095984\n",
              "degree2_school          0.087939\n",
              "degree2_major           0.051887\n",
              "AGE                     0.039426\n",
              "degree2_GPA             0.000000\n",
              "degree2_count           0.000000\n",
              "degree1_fac_major       0.000000\n",
              "degree1_major           0.000000\n",
              "degree1_school          0.000000\n",
              "degree1_count           0.000000\n",
              "degree1_GPA             0.000000\n",
              "degree3_GPA             0.000000\n",
              "EXP_PT_YEAR             0.000000\n",
              "EXP_FULL_YEAR           0.000000\n",
              "EXP_YEAR                0.000000\n",
              "EXP_COMPANY             0.000000\n",
              "EXP_STATUS              0.000000\n",
              "ID_CITY                 0.000000\n",
              "degree3_count           0.000000\n",
              "POSITION_JOB_FIELD      0.000000\n",
              "degree3_school          0.000000\n",
              "POSITION_AGE_MAX        0.000000\n",
              "POSITION_AGE_MIN        0.000000\n",
              "POSITION_SALARY_MOST    0.000000\n",
              "POSITION_EXP_MOST       0.000000\n",
              "POSITION_DEGREE         0.000000\n",
              "dtype: float64"
            ]
          },
          "metadata": {
            "tags": []
          },
          "execution_count": 41
        }
      ]
    },
    {
      "cell_type": "code",
      "metadata": {
        "id": "s_bR6oD1wKaD"
      },
      "source": [
        "# Figure out where graphviz executable lives\n",
        "dotpath = !which dot"
      ],
      "execution_count": null,
      "outputs": []
    },
    {
      "cell_type": "code",
      "metadata": {
        "colab": {
          "base_uri": "https://localhost:8080/",
          "height": 930
        },
        "id": "msDwIOdgwMqu",
        "outputId": "f8597fb0-ca50-483d-d673-146bb70c9bee"
      },
      "source": [
        "# Generate cut point diagram\n",
        "from sklearn.tree import export_graphviz\n",
        "import sys, subprocess\n",
        "from IPython.display import Image\n",
        "\n",
        "export_graphviz(decision_tree_classifier, feature_names=X.columns, class_names=['failure','success'],\n",
        "                out_file='ml-good.dot', impurity=False, filled=True)\n",
        "subprocess.check_call([dotpath[0],'-Tpng','ml-good.dot','-o','ml-good.png'])\n",
        "Image('ml-good.png')"
      ],
      "execution_count": null,
      "outputs": [
        {
          "output_type": "execute_result",
          "data": {
            "image/png": "[encoded data removed]",
            "text/plain": [
              "<IPython.core.display.Image object>"
            ]
          },
          "metadata": {
            "tags": []
          },
          "execution_count": 32
        }
      ]
    },
    {
      "cell_type": "code",
      "metadata": {
        "colab": {
          "base_uri": "https://localhost:8080/"
        },
        "id": "Rk_bEUTru6lQ",
        "outputId": "0e4fbf46-aba8-48db-8868-fefdbdf42cc4"
      },
      "source": [
        "decision_tree_classifier.predict_proba(X_test)"
      ],
      "execution_count": null,
      "outputs": [
        {
          "output_type": "execute_result",
          "data": {
            "text/plain": [
              "array([[1., 0.],\n",
              "       [1., 0.],\n",
              "       [1., 0.],\n",
              "       [0., 1.],\n",
              "       [1., 0.],\n",
              "       [0., 1.],\n",
              "       [0., 1.],\n",
              "       [1., 0.],\n",
              "       [0., 1.],\n",
              "       [1., 0.],\n",
              "       [1., 0.],\n",
              "       [1., 0.],\n",
              "       [1., 0.],\n",
              "       [0., 1.],\n",
              "       [1., 0.],\n",
              "       [0., 1.],\n",
              "       [0., 1.]])"
            ]
          },
          "metadata": {
            "tags": []
          },
          "execution_count": 33
        }
      ]
    },
    {
      "cell_type": "code",
      "metadata": {
        "id": "B5Gz0nLBpAuI"
      },
      "source": [
        "#Quick Comparison\n",
        "from sklearn.neural_network import MLPClassifier\n",
        "from sklearn.neighbors import KNeighborsClassifier\n",
        "from sklearn.svm import SVC\n",
        "from sklearn.svm import LinearSVC\n",
        "from sklearn.gaussian_process import GaussianProcessClassifier\n",
        "from sklearn.gaussian_process.kernels import RBF\n",
        "from sklearn.tree import DecisionTreeClassifier\n",
        "from sklearn.ensemble import RandomForestClassifier, AdaBoostClassifier\n",
        "from sklearn.naive_bayes import GaussianNB\n",
        "from sklearn.discriminant_analysis import QuadraticDiscriminantAnalysis\n",
        "from sklearn.dummy import DummyClassifier\n",
        "\n",
        "classifiers = {\n",
        "    \"Dummy\"        : DummyClassifier(strategy='uniform', random_state=2),\n",
        "    \"KNN(3)\"       : KNeighborsClassifier(3), \n",
        "    \"RBF SVM\"      : SVC(gamma=2, C=1), \n",
        "    \"Decision Tree\": DecisionTreeClassifier(criterion=\"entropy\", max_depth=None), \n",
        "    \"Random Forest\": RandomForestClassifier(max_depth=None, n_estimators=10, max_features=10), \n",
        "    \"Neural Net\"   : MLPClassifier(alpha=1), \n",
        "    \"AdaBoost\"     : AdaBoostClassifier(),\n",
        "    \"Naive Bayes\"  : GaussianNB(), \n",
        "    \"QDA\"          : QuadraticDiscriminantAnalysis(),\n",
        "    \"Linear SVC\"   : LinearSVC(),\n",
        "    \"Linear SVM\"   : SVC(kernel=\"linear\"), \n",
        "    \"Gaussian Proc\": GaussianProcessClassifier(1.0 * RBF(1.0)),\n",
        "}"
      ],
      "execution_count": null,
      "outputs": []
    },
    {
      "cell_type": "code",
      "metadata": {
        "colab": {
          "base_uri": "https://localhost:8080/"
        },
        "id": "W2p-m3dapHEK",
        "outputId": "fa7b8df3-f15f-4bdf-a937-ce65f0ebbd61"
      },
      "source": [
        "from time import time\n",
        "nfast = 10      # Don't run the very slow ones\n",
        "head = list(classifiers.items())[:nfast]\n",
        "\n",
        "for name, classifier in head:\n",
        "    start = time()\n",
        "    classifier.fit(X_train, y_train)\n",
        "    train_time = time() - start\n",
        "    start = time()\n",
        "    score = classifier.score(X_test, y_test)\n",
        "    score_time = time()-start\n",
        "    print(\"{:<15}| score = {:.3f} | time = {:,.3f}s/{:,.3f}s\".format(name, score, train_time, score_time))"
      ],
      "execution_count": null,
      "outputs": [
        {
          "output_type": "stream",
          "text": [
            "Dummy          | score = 0.647 | time = 0.001s/0.002s\n",
            "KNN(3)         | score = 0.882 | time = 0.012s/0.007s\n",
            "RBF SVM        | score = 0.294 | time = 0.007s/0.005s\n",
            "Decision Tree  | score = 0.647 | time = 0.006s/0.005s\n",
            "Random Forest  | score = 0.588 | time = 0.020s/0.006s\n",
            "Neural Net     | score = 0.294 | time = 0.052s/0.005s\n",
            "AdaBoost       | score = 0.294 | time = 0.076s/0.017s\n",
            "Naive Bayes    | score = 0.706 | time = 0.006s/0.004s\n",
            "QDA            | score = 0.176 | time = 0.031s/0.007s\n",
            "Linear SVC     | score = 0.824 | time = 0.016s/0.007s\n"
          ],
          "name": "stdout"
        },
        {
          "output_type": "stream",
          "text": [
            "/usr/local/lib/python3.6/dist-packages/sklearn/discriminant_analysis.py:691: UserWarning: Variables are collinear\n",
            "  warnings.warn(\"Variables are collinear\")\n",
            "/usr/local/lib/python3.6/dist-packages/sklearn/svm/_base.py:947: ConvergenceWarning: Liblinear failed to converge, increase the number of iterations.\n",
            "  \"the number of iterations.\", ConvergenceWarning)\n"
          ],
          "name": "stderr"
        }
      ]
    }
  ]
}